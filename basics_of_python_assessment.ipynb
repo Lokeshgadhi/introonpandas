{
  "nbformat": 4,
  "nbformat_minor": 0,
  "metadata": {
    "colab": {
      "provenance": [],
      "gpuType": "T4",
      "authorship_tag": "ABX9TyP8ssxiYzKfRG5+KdyX1vB7",
      "include_colab_link": true
    },
    "kernelspec": {
      "name": "python3",
      "display_name": "Python 3"
    },
    "language_info": {
      "name": "python"
    },
    "accelerator": "GPU"
  },
  "cells": [
    {
      "cell_type": "markdown",
      "metadata": {
        "id": "view-in-github",
        "colab_type": "text"
      },
      "source": [
        "<a href=\"https://colab.research.google.com/github/Lokeshgadhi/introonpandas/blob/main/basics_of_python_assessment.ipynb\" target=\"_parent\"><img src=\"https://colab.research.google.com/assets/colab-badge.svg\" alt=\"Open In Colab\"/></a>"
      ]
    },
    {
      "cell_type": "code",
      "execution_count": 1,
      "metadata": {
        "colab": {
          "base_uri": "https://localhost:8080/"
        },
        "id": "jS75WmwixPvf",
        "outputId": "71aace76-3ea8-4619-f307-88cda9cabbc9"
      },
      "outputs": [
        {
          "output_type": "stream",
          "name": "stdout",
          "text": [
            "17 is a prime number\n",
            "4 is not a prime number\n"
          ]
        }
      ],
      "source": [
        "# prompt: Write a Python program that checks whether a given number is prime or not. A prime number is a natural number greater than 1 that has no positive divisors other than 1 and itself.\n",
        "\n",
        "def is_prime(number):\n",
        "  \"\"\"\n",
        "  Checks if a given number is prime.\n",
        "\n",
        "  Args:\n",
        "    number: An integer.\n",
        "\n",
        "  Returns:\n",
        "    True if the number is prime, False otherwise.\n",
        "  \"\"\"\n",
        "  if number <= 1:\n",
        "    return False\n",
        "  if number <= 3:\n",
        "    return True\n",
        "  if number % 2 == 0 or number % 3 == 0:\n",
        "    return False\n",
        "  i = 5\n",
        "  while i * i <= number:\n",
        "    if number % i == 0 or number % (i + 2) == 0:\n",
        "      return False\n",
        "    i += 6\n",
        "  return True\n",
        "\n",
        "# Example usage:\n",
        "number = 17\n",
        "if is_prime(number):\n",
        "  print(f\"{number} is a prime number\")\n",
        "else:\n",
        "  print(f\"{number} is not a prime number\")\n",
        "\n",
        "number = 4\n",
        "if is_prime(number):\n",
        "  print(f\"{number} is a prime number\")\n",
        "else:\n",
        "  print(f\"{number} is not a prime number\")\n"
      ]
    },
    {
      "cell_type": "code",
      "source": [
        "# prompt: Develop a Python program that generates two random numbers and asks the user to enter the product of these numbers. The program should then check if the user's answer is correct and display an appropriate message.\n",
        "\n",
        "import random\n",
        "\n",
        "def check_product():\n",
        "  \"\"\"\n",
        "  Generates two random numbers, asks the user for their product,\n",
        "  and checks if the answer is correct.\n",
        "  \"\"\"\n",
        "  num1 = random.randint(1, 10)  # Generate a random number between 1 and 10\n",
        "  num2 = random.randint(1, 10)  # Generate another random number between 1 and 10\n",
        "  product = num1 * num2\n",
        "\n",
        "  try:\n",
        "    user_answer = int(input(f\"What is the product of {num1} and {num2}? \"))\n",
        "  except ValueError:\n",
        "    print(\"Invalid input. Please enter an integer.\")\n",
        "    return\n",
        "\n",
        "  if user_answer == product:\n",
        "    print(\"Correct! You got it right.\")\n",
        "  else:\n",
        "    print(f\"Incorrect. The correct answer is {product}.\")\n",
        "\n",
        "# Run the function\n",
        "check_product()\n"
      ],
      "metadata": {
        "colab": {
          "base_uri": "https://localhost:8080/"
        },
        "id": "EEdVITOqxyU8",
        "outputId": "eb6915c1-4252-4d6f-e50a-06405a9a2ea9"
      },
      "execution_count": 4,
      "outputs": [
        {
          "output_type": "stream",
          "name": "stdout",
          "text": [
            "What is the product of 2 and 8? 16\n",
            "Correct! You got it right.\n"
          ]
        }
      ]
    },
    {
      "cell_type": "code",
      "source": [
        "# prompt: Create a Python script that prints the squares of all even or odd numbers within the range of 100 to 200. Choose either even or odd numbers and document your choice in the code.\n",
        "\n",
        "# This script calculates and prints the squares of odd numbers within the range of 100 to 200.\n",
        "# We are choosing to work with odd numbers in this example.\n",
        "\n",
        "for number in range(100, 201):\n",
        "  if number % 2 != 0:  # Check if the number is odd\n",
        "    square = number ** 2\n",
        "    print(f\"The square of {number} is {square}\")\n"
      ],
      "metadata": {
        "colab": {
          "base_uri": "https://localhost:8080/"
        },
        "id": "89VXnKLQx5zb",
        "outputId": "e20cc570-3649-413a-83d2-eb492fcd5e6a"
      },
      "execution_count": 5,
      "outputs": [
        {
          "output_type": "stream",
          "name": "stdout",
          "text": [
            "The square of 101 is 10201\n",
            "The square of 103 is 10609\n",
            "The square of 105 is 11025\n",
            "The square of 107 is 11449\n",
            "The square of 109 is 11881\n",
            "The square of 111 is 12321\n",
            "The square of 113 is 12769\n",
            "The square of 115 is 13225\n",
            "The square of 117 is 13689\n",
            "The square of 119 is 14161\n",
            "The square of 121 is 14641\n",
            "The square of 123 is 15129\n",
            "The square of 125 is 15625\n",
            "The square of 127 is 16129\n",
            "The square of 129 is 16641\n",
            "The square of 131 is 17161\n",
            "The square of 133 is 17689\n",
            "The square of 135 is 18225\n",
            "The square of 137 is 18769\n",
            "The square of 139 is 19321\n",
            "The square of 141 is 19881\n",
            "The square of 143 is 20449\n",
            "The square of 145 is 21025\n",
            "The square of 147 is 21609\n",
            "The square of 149 is 22201\n",
            "The square of 151 is 22801\n",
            "The square of 153 is 23409\n",
            "The square of 155 is 24025\n",
            "The square of 157 is 24649\n",
            "The square of 159 is 25281\n",
            "The square of 161 is 25921\n",
            "The square of 163 is 26569\n",
            "The square of 165 is 27225\n",
            "The square of 167 is 27889\n",
            "The square of 169 is 28561\n",
            "The square of 171 is 29241\n",
            "The square of 173 is 29929\n",
            "The square of 175 is 30625\n",
            "The square of 177 is 31329\n",
            "The square of 179 is 32041\n",
            "The square of 181 is 32761\n",
            "The square of 183 is 33489\n",
            "The square of 185 is 34225\n",
            "The square of 187 is 34969\n",
            "The square of 189 is 35721\n",
            "The square of 191 is 36481\n",
            "The square of 193 is 37249\n",
            "The square of 195 is 38025\n",
            "The square of 197 is 38809\n",
            "The square of 199 is 39601\n"
          ]
        }
      ]
    },
    {
      "cell_type": "code",
      "source": [
        "# prompt: write a program to count the number of words in a given text.\n",
        "# example:\n",
        "# input_text = \"This is a sample text. This text will be used to demonstrate the word counter.\"\n",
        "# Expected output:\n",
        "# 'This': 2\n",
        "# 'is': 1\n",
        "# 'a': 1\n",
        "# 'sample': 1\n",
        "# 'text.': 1\n",
        "\n",
        "import re\n",
        "\n",
        "def word_counter(input_text):\n",
        "  \"\"\"\n",
        "  Counts the occurrences of each word in a given text.\n",
        "\n",
        "  Args:\n",
        "    input_text: The input text string.\n",
        "\n",
        "  Returns:\n",
        "    A dictionary where keys are words and values are their counts.\n",
        "  \"\"\"\n",
        "\n",
        "  # Remove punctuation and convert to lowercase\n",
        "  text = re.sub(r'[^\\w\\s]', '', input_text).lower()\n",
        "\n",
        "  # Split the text into words\n",
        "  words = text.split()\n",
        "\n",
        "  word_counts = {}\n",
        "  for word in words:\n",
        "    if word in word_counts:\n",
        "      word_counts[word] += 1\n",
        "    else:\n",
        "      word_counts[word] = 1\n",
        "  return word_counts\n",
        "\n",
        "# Example Usage\n",
        "input_text = \"This is a sample text. I Am GADHI LOKESH KUMAR\"\n",
        "word_counts = word_counter(input_text)\n",
        "\n",
        "for word, count in word_counts.items():\n",
        "  print(f\"'{word}': {count}\")\n"
      ],
      "metadata": {
        "colab": {
          "base_uri": "https://localhost:8080/"
        },
        "id": "XRbUoPrRyLdo",
        "outputId": "b7841a86-d0cb-4717-fb99-af53e7e5e559"
      },
      "execution_count": 9,
      "outputs": [
        {
          "output_type": "stream",
          "name": "stdout",
          "text": [
            "'this': 1\n",
            "'is': 1\n",
            "'a': 1\n",
            "'sample': 1\n",
            "'text': 1\n",
            "'i': 1\n",
            "'am': 1\n",
            "'gadhi': 1\n",
            "'lokesh': 1\n",
            "'kumar': 1\n",
            "'this': 1\n",
            "'is': 1\n",
            "'a': 1\n",
            "'sample': 1\n",
            "'text': 1\n",
            "'i': 1\n",
            "'am': 1\n",
            "'gadhi': 1\n",
            "'lokesh': 1\n",
            "'kumar': 1\n"
          ]
        }
      ]
    },
    {
      "cell_type": "code",
      "source": [
        "# prompt: Write a Python function called is_palindrome that takes a string as input and returns True if the string is a palindrome, and False otherwise. A palindrome is a word, phrase, number, or other sequence of characters that reads the same forward and backward, ignoring spaces, punctuation, and capitalization.\n",
        "\n",
        "import re\n",
        "\n",
        "def is_palindrome(text):\n",
        "  \"\"\"\n",
        "  Checks if a given string is a palindrome.\n",
        "\n",
        "  Args:\n",
        "    text: The input string.\n",
        "\n",
        "  Returns:\n",
        "    True if the string is a palindrome, False otherwise.\n",
        "  \"\"\"\n",
        "  processed_text = re.sub(r'[^a-zA-Z0-9]', '', text).lower()\n",
        "  return processed_text == processed_text[::-1]\n",
        "\n",
        "# Example Usage\n",
        "print(is_palindrome(\"racecar\"))  # Output: True\n",
        "print(is_palindrome(\"A man, a plan, a canal: Panama\"))  # Output: True\n",
        "print(is_palindrome(\"hello\"))  # Output: False\n",
        "print(is_palindrome(\"Was it a car or a cat I saw?\")) # Output: True\n"
      ],
      "metadata": {
        "colab": {
          "base_uri": "https://localhost:8080/"
        },
        "id": "rcykt42pycPs",
        "outputId": "ce14abb1-8bdf-4ef8-f0e5-f07289767f62"
      },
      "execution_count": 11,
      "outputs": [
        {
          "output_type": "stream",
          "name": "stdout",
          "text": [
            "True\n",
            "True\n",
            "False\n",
            "True\n"
          ]
        }
      ]
    },
    {
      "cell_type": "code",
      "source": [],
      "metadata": {
        "id": "RQgzHUz9zO2d"
      },
      "execution_count": null,
      "outputs": []
    }
  ]
}