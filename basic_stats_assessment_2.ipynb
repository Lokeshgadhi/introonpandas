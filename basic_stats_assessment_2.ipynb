{
  "nbformat": 4,
  "nbformat_minor": 0,
  "metadata": {
    "colab": {
      "provenance": [],
      "authorship_tag": "ABX9TyPlDOpXttbHNTlDbFPGPFMM",
      "include_colab_link": true
    },
    "kernelspec": {
      "name": "python3",
      "display_name": "Python 3"
    },
    "language_info": {
      "name": "python"
    }
  },
  "cells": [
    {
      "cell_type": "markdown",
      "metadata": {
        "id": "view-in-github",
        "colab_type": "text"
      },
      "source": [
        "<a href=\"https://colab.research.google.com/github/Lokeshgadhi/introonpandas/blob/main/basic_stats_assessment_2.ipynb\" target=\"_parent\"><img src=\"https://colab.research.google.com/assets/colab-badge.svg\" alt=\"Open In Colab\"/></a>"
      ]
    },
    {
      "cell_type": "code",
      "execution_count": 1,
      "metadata": {
        "colab": {
          "base_uri": "https://localhost:8080/"
        },
        "id": "E9QLWKL5v1D3",
        "outputId": "ff91a3e6-17df-4a91-b2ab-9b7cd86c210f"
      },
      "outputs": [
        {
          "output_type": "stream",
          "name": "stdout",
          "text": [
            "Sample Mean: 1.2387 million characters\n",
            "Sample Standard Deviation: 0.1932 million characters\n",
            "Degrees of Freedom: 14\n",
            "t-critical value: 2.1448\n",
            "Margin of Error: 0.1070 million characters\n",
            "95% Confidence Interval for the Mean Durability: (1.1317, 1.3456) million characters\n"
          ]
        }
      ],
      "source": [
        "# prompt: Background\n",
        "# In quality control processes, especially when dealing with high-value items, destructive sampling is a necessary but costly method to ensure product quality. The test to determine whether an item meets the quality standards destroys the item, leading to the requirement of small sample sizes due to cost constraints.\n",
        "# Scenario\n",
        "# A manufacturer of print-heads for personal computers is interested in estimating the mean durability of their print-heads in terms of the number of characters printed before failure. To assess this, the manufacturer conducts a study on a small sample of print-heads due to the destructive nature of the testing process.\n",
        "# Data\n",
        "# A total of 15 print-heads were randomly selected and tested until failure. The durability of each print-head (in millions of characters) was recorded as follows:\n",
        "# 1.13, 1.55, 1.43, 0.92, 1.25, 1.36, 1.32, 0.85, 1.07, 1.48, 1.20, 1.33, 1.18, 1.22, 1.29\n",
        "\n",
        "import numpy as np\n",
        "from scipy import stats\n",
        "\n",
        "# Data of print-head durability (in millions of characters)\n",
        "data = np.array([1.13, 1.55, 1.43, 0.92, 1.25, 1.36, 1.32, 0.85, 1.07, 1.48, 1.20, 1.33, 1.18, 1.22, 1.29])\n",
        "\n",
        "# Sample size\n",
        "n = len(data)\n",
        "\n",
        "# Calculate the sample mean\n",
        "sample_mean = np.mean(data)\n",
        "\n",
        "# Calculate the sample standard deviation\n",
        "sample_std = np.std(data, ddof=1)  # ddof=1 for sample standard deviation\n",
        "\n",
        "# Degrees of freedom\n",
        "degrees_of_freedom = n - 1\n",
        "\n",
        "# Confidence level\n",
        "confidence_level = 0.95\n",
        "\n",
        "# Calculate the t-critical value for a two-tailed test\n",
        "t_critical = stats.t.ppf((1 + confidence_level) / 2, degrees_of_freedom)\n",
        "\n",
        "# Calculate the margin of error\n",
        "margin_of_error = t_critical * (sample_std / np.sqrt(n))\n",
        "\n",
        "# Calculate the confidence interval\n",
        "confidence_interval = (sample_mean - margin_of_error, sample_mean + margin_of_error)\n",
        "\n",
        "# Print the results\n",
        "print(f\"Sample Mean: {sample_mean:.4f} million characters\")\n",
        "print(f\"Sample Standard Deviation: {sample_std:.4f} million characters\")\n",
        "print(f\"Degrees of Freedom: {degrees_of_freedom}\")\n",
        "print(f\"t-critical value: {t_critical:.4f}\")\n",
        "print(f\"Margin of Error: {margin_of_error:.4f} million characters\")\n",
        "print(f\"95% Confidence Interval for the Mean Durability: ({confidence_interval[0]:.4f}, {confidence_interval[1]:.4f}) million characters\")\n"
      ]
    },
    {
      "cell_type": "code",
      "source": [
        "# prompt: a. Build 99% Confidence Interval Using Sample Standard Deviation\n",
        "# Assuming the sample is representative of the population, construct a 99% confidence interval for the mean number of characters printed before the print-head fails using the sample standard deviation. Explain the steps you take and the rationale behind using the t-distribution for this task.\n",
        "\n",
        "import numpy as np\n",
        "from scipy import stats\n",
        "\n",
        "# Data of print-head durability (in millions of characters)\n",
        "data = np.array([1.13, 1.55, 1.43, 0.92, 1.25, 1.36, 1.32, 0.85, 1.07, 1.48, 1.20, 1.33, 1.18, 1.22, 1.29])\n",
        "\n",
        "# Sample size\n",
        "n = len(data)\n",
        "\n",
        "# Calculate the sample mean\n",
        "sample_mean = np.mean(data)\n",
        "\n",
        "# Calculate the sample standard deviation\n",
        "sample_std = np.std(data, ddof=1)  # ddof=1 for sample standard deviation\n",
        "\n",
        "# Degrees of freedom\n",
        "degrees_of_freedom = n - 1\n",
        "\n",
        "# Confidence level for 99%\n",
        "confidence_level = 0.99\n",
        "\n",
        "# Calculate the t-critical value for a two-tailed test at 99% confidence\n",
        "t_critical = stats.t.ppf((1 + confidence_level) / 2, degrees_of_freedom)\n",
        "\n",
        "# Calculate the margin of error\n",
        "margin_of_error = t_critical * (sample_std / np.sqrt(n))\n",
        "\n",
        "# Calculate the confidence interval\n",
        "confidence_interval = (sample_mean - margin_of_error, sample_mean + margin_of_error)\n",
        "\n",
        "# Print the results\n",
        "print(f\"Sample Mean: {sample_mean:.4f} million characters\")\n",
        "print(f\"Sample Standard Deviation: {sample_std:.4f} million characters\")\n",
        "print(f\"Degrees of Freedom: {degrees_of_freedom}\")\n",
        "print(f\"t-critical value (99%): {t_critical:.4f}\")\n",
        "print(f\"Margin of Error (99%): {margin_of_error:.4f} million characters\")\n",
        "print(f\"99% Confidence Interval for the Mean Durability: ({confidence_interval[0]:.4f}, {confidence_interval[1]:.4f}) million characters\")\n",
        "\n",
        "# Explanation:\n",
        "print(\"\\nExplanation:\")\n",
        "print(\"1. **Why t-distribution?**\")\n",
        "print(\"   - We use the t-distribution because we are estimating the population mean and the population standard deviation is unknown. Instead we are using the sample standard deviation.\")\n",
        "print(\"   - The t-distribution is more appropriate than the normal distribution when the sample size is small (n < 30) or when the population standard deviation is unknown.\")\n",
        "print(\"   - The t-distribution accounts for the added uncertainty that comes from estimating the standard deviation from the sample data.\")\n",
        "print(\"2. **Steps:**\")\n",
        "print(\"   - **Calculate Sample Statistics:** We compute the sample mean and the sample standard deviation from the given data.\")\n",
        "print(\"   - **Determine Degrees of Freedom:** Degrees of freedom are calculated as n-1, where n is the sample size.\")\n",
        "print(\"   - **Find t-critical value:** We find the t-critical value associated with a 99% confidence level and the calculated degrees of freedom, this is for a two tailed test.\")\n",
        "print(\"   - **Compute Margin of Error:**  This is calculated by multiplying the t-critical value by the standard error of the mean (sample standard deviation divided by the square root of the sample size).\")\n",
        "print(\"   - **Construct Confidence Interval:** The 99% confidence interval is created by subtracting and adding the margin of error to the sample mean.\")\n",
        "print(\"3. **Interpretation**\")\n",
        "print(\"    - With 99% confidence, we estimate the true mean print-head durability (in millions of characters) lies within the range calculated above.\")\n"
      ],
      "metadata": {
        "colab": {
          "base_uri": "https://localhost:8080/"
        },
        "id": "1O6Mz7p1v-v5",
        "outputId": "e5847cfb-4921-41e4-838f-4ff070ebf7e2"
      },
      "execution_count": 2,
      "outputs": [
        {
          "output_type": "stream",
          "name": "stdout",
          "text": [
            "Sample Mean: 1.2387 million characters\n",
            "Sample Standard Deviation: 0.1932 million characters\n",
            "Degrees of Freedom: 14\n",
            "t-critical value (99%): 2.9768\n",
            "Margin of Error (99%): 0.1485 million characters\n",
            "99% Confidence Interval for the Mean Durability: (1.0902, 1.3871) million characters\n",
            "\n",
            "Explanation:\n",
            "1. **Why t-distribution?**\n",
            "   - We use the t-distribution because we are estimating the population mean and the population standard deviation is unknown. Instead we are using the sample standard deviation.\n",
            "   - The t-distribution is more appropriate than the normal distribution when the sample size is small (n < 30) or when the population standard deviation is unknown.\n",
            "   - The t-distribution accounts for the added uncertainty that comes from estimating the standard deviation from the sample data.\n",
            "2. **Steps:**\n",
            "   - **Calculate Sample Statistics:** We compute the sample mean and the sample standard deviation from the given data.\n",
            "   - **Determine Degrees of Freedom:** Degrees of freedom are calculated as n-1, where n is the sample size.\n",
            "   - **Find t-critical value:** We find the t-critical value associated with a 99% confidence level and the calculated degrees of freedom, this is for a two tailed test.\n",
            "   - **Compute Margin of Error:**  This is calculated by multiplying the t-critical value by the standard error of the mean (sample standard deviation divided by the square root of the sample size).\n",
            "   - **Construct Confidence Interval:** The 99% confidence interval is created by subtracting and adding the margin of error to the sample mean.\n",
            "3. **Interpretation**\n",
            "    - With 99% confidence, we estimate the true mean print-head durability (in millions of characters) lies within the range calculated above.\n"
          ]
        }
      ]
    },
    {
      "cell_type": "code",
      "source": [
        "# prompt: . Build 99% Confidence Interval Using Known Population Standard Deviation\n",
        "# If it were known that the population standard deviation is 0.2 million characters, construct a 99% confidence interval for the mean number of characters printed before failure.\n",
        "\n",
        "import numpy as np\n",
        "from scipy import stats\n",
        "\n",
        "# Data of print-head durability (in millions of characters)\n",
        "data = np.array([1.13, 1.55, 1.43, 0.92, 1.25, 1.36, 1.32, 0.85, 1.07, 1.48, 1.20, 1.33, 1.18, 1.22, 1.29])\n",
        "\n",
        "# Sample size\n",
        "n = len(data)\n",
        "\n",
        "# Calculate the sample mean\n",
        "sample_mean = np.mean(data)\n",
        "\n",
        "# Known population standard deviation\n",
        "population_std = 0.2\n",
        "\n",
        "# Confidence level\n",
        "confidence_level = 0.99\n",
        "\n",
        "# Calculate the z-critical value for a two-tailed test\n",
        "z_critical = stats.norm.ppf((1 + confidence_level) / 2)\n",
        "\n",
        "# Calculate the margin of error\n",
        "margin_of_error = z_critical * (population_std / np.sqrt(n))\n",
        "\n",
        "# Calculate the confidence interval\n",
        "confidence_interval = (sample_mean - margin_of_error, sample_mean + margin_of_error)\n",
        "\n",
        "# Print the results\n",
        "print(f\"Sample Mean: {sample_mean:.4f} million characters\")\n",
        "print(f\"Population Standard Deviation: {population_std:.4f} million characters\")\n",
        "print(f\"z-critical value (99%): {z_critical:.4f}\")\n",
        "print(f\"Margin of Error (99%): {margin_of_error:.4f} million characters\")\n",
        "print(f\"99% Confidence Interval for the Mean Durability: ({confidence_interval[0]:.4f}, {confidence_interval[1]:.4f}) million characters\")\n",
        "\n",
        "# Explanation:\n",
        "print(\"\\nExplanation:\")\n",
        "print(\"1. **Why z-distribution?**\")\n",
        "print(\"   - We use the z-distribution because we are estimating the population mean and the population standard deviation is known.\")\n",
        "print(\"   - The z-distribution is appropriate when the population standard deviation is known, regardless of sample size.\")\n",
        "print(\"2. **Steps:**\")\n",
        "print(\"   - **Calculate Sample Statistics:** We compute the sample mean from the given data.\")\n",
        "print(\"   - **Determine z-critical value:** We find the z-critical value associated with a 99% confidence level, this is for a two-tailed test.\")\n",
        "print(\"   - **Compute Margin of Error:**  This is calculated by multiplying the z-critical value by the standard error of the mean (population standard deviation divided by the square root of the sample size).\")\n",
        "print(\"   - **Construct Confidence Interval:** The 99% confidence interval is created by subtracting and adding the margin of error to the sample mean.\")\n",
        "print(\"3. **Interpretation**\")\n",
        "print(\"    - With 99% confidence, we estimate the true mean print-head durability (in millions of characters) lies within the range calculated above.\")\n"
      ],
      "metadata": {
        "colab": {
          "base_uri": "https://localhost:8080/"
        },
        "id": "lsGuLyazwYgy",
        "outputId": "a3ae001b-aa3a-4f31-fd9a-cca3a3a63dc6"
      },
      "execution_count": 3,
      "outputs": [
        {
          "output_type": "stream",
          "name": "stdout",
          "text": [
            "Sample Mean: 1.2387 million characters\n",
            "Population Standard Deviation: 0.2000 million characters\n",
            "z-critical value (99%): 2.5758\n",
            "Margin of Error (99%): 0.1330 million characters\n",
            "99% Confidence Interval for the Mean Durability: (1.1057, 1.3717) million characters\n",
            "\n",
            "Explanation:\n",
            "1. **Why z-distribution?**\n",
            "   - We use the z-distribution because we are estimating the population mean and the population standard deviation is known.\n",
            "   - The z-distribution is appropriate when the population standard deviation is known, regardless of sample size.\n",
            "2. **Steps:**\n",
            "   - **Calculate Sample Statistics:** We compute the sample mean from the given data.\n",
            "   - **Determine z-critical value:** We find the z-critical value associated with a 99% confidence level, this is for a two-tailed test.\n",
            "   - **Compute Margin of Error:**  This is calculated by multiplying the z-critical value by the standard error of the mean (population standard deviation divided by the square root of the sample size).\n",
            "   - **Construct Confidence Interval:** The 99% confidence interval is created by subtracting and adding the margin of error to the sample mean.\n",
            "3. **Interpretation**\n",
            "    - With 99% confidence, we estimate the true mean print-head durability (in millions of characters) lies within the range calculated above.\n"
          ]
        }
      ]
    },
    {
      "cell_type": "code",
      "source": [],
      "metadata": {
        "id": "IMyHtfNAwi84"
      },
      "execution_count": null,
      "outputs": []
    }
  ]
}