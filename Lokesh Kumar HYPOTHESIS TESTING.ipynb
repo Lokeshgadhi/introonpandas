{
  "nbformat": 4,
  "nbformat_minor": 0,
  "metadata": {
    "colab": {
      "provenance": [],
      "authorship_tag": "ABX9TyNpCyRod0McL+GsAc2GZoWg",
      "include_colab_link": true
    },
    "kernelspec": {
      "name": "python3",
      "display_name": "Python 3"
    },
    "language_info": {
      "name": "python"
    }
  },
  "cells": [
    {
      "cell_type": "markdown",
      "metadata": {
        "id": "view-in-github",
        "colab_type": "text"
      },
      "source": [
        "<a href=\"https://colab.research.google.com/github/Lokeshgadhi/introonpandas/blob/main/Lokesh%20Kumar%20HYPOTHESIS%20TESTING.ipynb\" target=\"_parent\"><img src=\"https://colab.research.google.com/assets/colab-badge.svg\" alt=\"Open In Colab\"/></a>"
      ]
    },
    {
      "cell_type": "code",
      "source": [
        "import math\n",
        "\n",
        "# Given data\n",
        "x_bar = 3050  # Sample mean weekly cost\n",
        "mu = 1000 + (5 * 600)  # Theoretical mean weekly cost\n",
        "sigma = 5 * 25  # Standard deviation\n",
        "n = 25  # Sample size\n",
        "alpha = 0.05  # Significance level\n",
        "\n",
        "# Calculate the test statistic\n",
        "t = (x_bar - mu) / (sigma / math.sqrt(n))\n",
        "print(f\"Test Statistic (t): {t}\")\n",
        "\n",
        "# Critical value for one-tailed test at alpha=0.05\n",
        "critical_value = 1.645\n",
        "print(f\"Critical Value: {critical_value}\")\n",
        "\n",
        "# Decision\n",
        "if t > critical_value:\n",
        "    print(\"Reject the null hypothesis: There is evidence to support the claim.\")\n",
        "else:\n",
        "    print(\"Fail to reject the null hypothesis: No strong evidence to support the claim.\")\n"
      ],
      "metadata": {
        "colab": {
          "base_uri": "https://localhost:8080/"
        },
        "id": "ZipDrVSeE730",
        "outputId": "823d9b34-3e73-4481-801f-d9fd1f6ebf44"
      },
      "execution_count": null,
      "outputs": [
        {
          "output_type": "stream",
          "name": "stdout",
          "text": [
            "Test Statistic (t): -38.0\n",
            "Critical Value: 1.645\n",
            "Fail to reject the null hypothesis: No strong evidence to support the claim.\n"
          ]
        }
      ]
    },
    {
      "cell_type": "code",
      "source": [],
      "metadata": {
        "id": "JohH-f-yE9K9"
      },
      "execution_count": null,
      "outputs": []
    }
  ]
}