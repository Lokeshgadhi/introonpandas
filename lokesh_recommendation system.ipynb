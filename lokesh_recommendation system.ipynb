{
  "cells": [
    {
      "cell_type": "markdown",
      "metadata": {
        "id": "view-in-github",
        "colab_type": "text"
      },
      "source": [
        "<a href=\"https://colab.research.google.com/github/Lokeshgadhi/introonpandas/blob/main/lokesh_recommendation%20system.ipynb\" target=\"_parent\"><img src=\"https://colab.research.google.com/assets/colab-badge.svg\" alt=\"Open In Colab\"/></a>"
      ]
    },
    {
      "cell_type": "markdown",
      "metadata": {
        "id": "PYq1j_34iYu8"
      },
      "source": [
        "# Anime Recommendation System using Cosine Similarity"
      ]
    },
    {
      "cell_type": "code",
      "metadata": {
        "colab": {
          "base_uri": "https://localhost:8080/"
        },
        "id": "hINSOW50iYu9",
        "outputId": "728d2219-a968-486b-cd24-35a4d937b3dc"
      },
      "source": [
        "!pip install pandas scikit-learn scipy"
      ],
      "execution_count": 1,
      "outputs": [
        {
          "output_type": "stream",
          "name": "stdout",
          "text": [
            "Requirement already satisfied: pandas in /usr/local/lib/python3.11/dist-packages (2.2.2)\n",
            "Requirement already satisfied: scikit-learn in /usr/local/lib/python3.11/dist-packages (1.6.1)\n",
            "Requirement already satisfied: scipy in /usr/local/lib/python3.11/dist-packages (1.15.3)\n",
            "Requirement already satisfied: numpy>=1.23.2 in /usr/local/lib/python3.11/dist-packages (from pandas) (2.0.2)\n",
            "Requirement already satisfied: python-dateutil>=2.8.2 in /usr/local/lib/python3.11/dist-packages (from pandas) (2.9.0.post0)\n",
            "Requirement already satisfied: pytz>=2020.1 in /usr/local/lib/python3.11/dist-packages (from pandas) (2025.2)\n",
            "Requirement already satisfied: tzdata>=2022.7 in /usr/local/lib/python3.11/dist-packages (from pandas) (2025.2)\n",
            "Requirement already satisfied: joblib>=1.2.0 in /usr/local/lib/python3.11/dist-packages (from scikit-learn) (1.5.1)\n",
            "Requirement already satisfied: threadpoolctl>=3.1.0 in /usr/local/lib/python3.11/dist-packages (from scikit-learn) (3.6.0)\n",
            "Requirement already satisfied: six>=1.5 in /usr/local/lib/python3.11/dist-packages (from python-dateutil>=2.8.2->pandas) (1.17.0)\n"
          ]
        }
      ]
    },
    {
      "cell_type": "code",
      "metadata": {
        "id": "4U9pGlpoiYu-"
      },
      "source": [
        "import pandas as pd\n",
        "import numpy as np\n",
        "from sklearn.feature_extraction.text import TfidfVectorizer\n",
        "from sklearn.metrics.pairwise import cosine_similarity\n",
        "from sklearn.preprocessing import MinMaxScaler\n",
        "from sklearn.model_selection import train_test_split\n",
        "from scipy.sparse import hstack"
      ],
      "execution_count": 2,
      "outputs": []
    },
    {
      "cell_type": "code",
      "metadata": {
        "colab": {
          "base_uri": "https://localhost:8080/"
        },
        "id": "hfw5ZVgAiYu-",
        "outputId": "2cd3c1b7-20e9-4a1e-c27f-256b4278c6ea"
      },
      "source": [
        "# Load dataset\n",
        "anime_df = pd.read_csv(\"anime.csv\")\n",
        "print(\"Dataset loaded successfully.\\n\")\n",
        "print(anime_df.head())"
      ],
      "execution_count": 3,
      "outputs": [
        {
          "output_type": "stream",
          "name": "stdout",
          "text": [
            "Dataset loaded successfully.\n",
            "\n",
            "   anime_id                              name  \\\n",
            "0     32281                    Kimi no Na wa.   \n",
            "1      5114  Fullmetal Alchemist: Brotherhood   \n",
            "2     28977                          Gintama°   \n",
            "3      9253                       Steins;Gate   \n",
            "4      9969                     Gintama&#039;   \n",
            "\n",
            "                                               genre   type episodes  rating  \\\n",
            "0               Drama, Romance, School, Supernatural  Movie        1    9.37   \n",
            "1  Action, Adventure, Drama, Fantasy, Magic, Mili...     TV       64    9.26   \n",
            "2  Action, Comedy, Historical, Parody, Samurai, S...     TV       51    9.25   \n",
            "3                                   Sci-Fi, Thriller     TV       24    9.17   \n",
            "4  Action, Comedy, Historical, Parody, Samurai, S...     TV       51    9.16   \n",
            "\n",
            "   members  \n",
            "0   200630  \n",
            "1   793665  \n",
            "2   114262  \n",
            "3   673572  \n",
            "4   151266  \n"
          ]
        }
      ]
    },
    {
      "cell_type": "code",
      "metadata": {
        "colab": {
          "base_uri": "https://localhost:8080/"
        },
        "id": "agCXZZnXiYu_",
        "outputId": "4e8cc0f0-1dab-48fe-c85f-a03a184a2bef"
      },
      "source": [
        "# Data cleaning\n",
        "anime_df.dropna(subset=['genre', 'rating'], inplace=True)\n",
        "anime_df.fillna({'episodes': 0}, inplace=True)\n",
        "anime_df.drop_duplicates(subset='name', inplace=True)\n",
        "anime_df.reset_index(drop=True, inplace=True)\n",
        "print(\"Data cleaned and ready for feature extraction.\")"
      ],
      "execution_count": 4,
      "outputs": [
        {
          "output_type": "stream",
          "name": "stdout",
          "text": [
            "Data cleaned and ready for feature extraction.\n"
          ]
        }
      ]
    },
    {
      "cell_type": "code",
      "metadata": {
        "colab": {
          "base_uri": "https://localhost:8080/"
        },
        "id": "H-sTb9w3iYu_",
        "outputId": "9349ab67-7e06-4fc2-bd00-56a416cefe7c"
      },
      "source": [
        "# Feature extraction\n",
        "tfidf = TfidfVectorizer(stop_words='english')\n",
        "genre_matrix = tfidf.fit_transform(anime_df['genre'])\n",
        "scaler = MinMaxScaler()\n",
        "normalized_ratings = scaler.fit_transform(anime_df[['rating']])\n",
        "features = hstack([genre_matrix, normalized_ratings])\n",
        "print(\"Features combined using genres and ratings.\")"
      ],
      "execution_count": 5,
      "outputs": [
        {
          "output_type": "stream",
          "name": "stdout",
          "text": [
            "Features combined using genres and ratings.\n"
          ]
        }
      ]
    },
    {
      "cell_type": "code",
      "metadata": {
        "colab": {
          "base_uri": "https://localhost:8080/"
        },
        "id": "dUmwfs4XiYu_",
        "outputId": "1f9ce2b1-6b31-498c-88bd-d3bf4d30a3c2"
      },
      "source": [
        "# Cosine similarity matrix\n",
        "cosine_sim = cosine_similarity(features, features)\n",
        "print(\"Cosine similarity matrix computed.\")"
      ],
      "execution_count": 6,
      "outputs": [
        {
          "output_type": "stream",
          "name": "stdout",
          "text": [
            "Cosine similarity matrix computed.\n"
          ]
        }
      ]
    },
    {
      "cell_type": "code",
      "metadata": {
        "id": "z6rAphs_iYu_"
      },
      "source": [
        "# Recommendation function\n",
        "def recommend_anime(title, top_n=10, threshold=0.2):\n",
        "    if title not in anime_df['name'].values:\n",
        "        return f\"Anime '{title}' not found in the dataset.\"\n",
        "    idx = anime_df[anime_df['name'] == title].index[0]\n",
        "    sim_scores = list(enumerate(cosine_sim[idx]))\n",
        "    sim_scores = sorted(sim_scores, key=lambda x: x[1], reverse=True)\n",
        "    sim_scores = [x for x in sim_scores if x[0] != idx and x[1] >= threshold]\n",
        "    top_anime = sim_scores[:top_n]\n",
        "    return [(anime_df.iloc[i]['name'], score) for i, score in top_anime]"
      ],
      "execution_count": 7,
      "outputs": []
    },
    {
      "cell_type": "code",
      "metadata": {
        "colab": {
          "base_uri": "https://localhost:8080/"
        },
        "id": "9_MOt9TniYu_",
        "outputId": "ae866f25-c808-427a-9d5b-dbbf95d02dfa"
      },
      "source": [
        "# Try a recommendation\n",
        "print(recommend_anime(\"Naruto\", top_n=5))"
      ],
      "execution_count": 8,
      "outputs": [
        {
          "output_type": "stream",
          "name": "stdout",
          "text": [
            "[('Naruto: Shippuuden', np.float64(0.9999496292892799)), ('Boruto: Naruto the Movie - Naruto ga Hokage ni Natta Hi', np.float64(0.9999481049853969)), ('Boruto: Naruto the Movie', np.float64(0.999857229347821)), ('Naruto x UT', np.float64(0.9998356939954685)), ('Naruto: Shippuuden Movie 4 - The Lost Tower', np.float64(0.9997551002626752))]\n"
          ]
        }
      ]
    },
    {
      "cell_type": "code",
      "metadata": {
        "colab": {
          "base_uri": "https://localhost:8080/"
        },
        "id": "8_oJBC8GiYu_",
        "outputId": "7a4dfe7f-f8b8-478c-9e33-024150973abc"
      },
      "source": [
        "# Evaluate using Precision@10\n",
        "train, test = train_test_split(anime_df, test_size=0.2, random_state=42)\n",
        "def evaluate_precision(test_set):\n",
        "    hits = 0\n",
        "    total = 0\n",
        "    for title in test_set['name'].sample(100, random_state=42):\n",
        "        recs = recommend_anime(title, top_n=10)\n",
        "        if isinstance(recs, str):\n",
        "            continue\n",
        "        rec_titles = [r[0] for r in recs]\n",
        "        hits += len(set(rec_titles).intersection(set(test_set['name']))) > 0\n",
        "        total += 1\n",
        "    precision = hits / total if total > 0 else 0\n",
        "    print(f\"Precision@10: {precision:.2f}\")\n",
        "\n",
        "evaluate_precision(test)"
      ],
      "execution_count": 9,
      "outputs": [
        {
          "output_type": "stream",
          "name": "stdout",
          "text": [
            "Precision@10: 0.87\n"
          ]
        }
      ]
    },
    {
      "cell_type": "code",
      "source": [
        "# prompt: explorecosine similarities\n",
        "\n",
        "# Let's explore some more anime recommendations to see the cosine similarities.\n",
        "\n",
        "# Recommend anime similar to 'Death Note'\n",
        "print(\"\\nAnime recommendations for 'Death Note':\")\n",
        "print(recommend_anime(\"Death Note\", top_n=5))\n",
        "\n",
        "# Recommend anime similar to 'Attack on Titan'\n",
        "print(\"\\nAnime recommendations for 'Attack on Titan':\")\n",
        "print(recommend_anime(\"Attack on Titan\", top_n=5))\n",
        "\n",
        "# Recommend anime similar to 'Spirited Away'\n",
        "print(\"\\nAnime recommendations for 'Spirited Away':\")\n",
        "print(recommend_anime(\"Spirited Away\", top_n=5))\n",
        "\n",
        "# Recommend anime similar to 'One Punch Man'\n",
        "print(\"\\nAnime recommendations for 'One Punch Man':\")\n",
        "print(recommend_anime(\"One Punch Man\", top_n=5))\n",
        "\n",
        "# Adjust the threshold and see how it affects recommendations for 'Naruto'\n",
        "print(\"\\nAnime recommendations for 'Naruto' with a higher threshold (0.5):\")\n",
        "print(recommend_anime(\"Naruto\", top_n=5, threshold=0.5))\n",
        "\n",
        "print(\"\\nAnime recommendations for 'Naruto' with a lower threshold (0.1):\")\n",
        "print(recommend_anime(\"Naruto\", top_n=5, threshold=0.1))"
      ],
      "metadata": {
        "colab": {
          "base_uri": "https://localhost:8080/"
        },
        "id": "GBHQeYoLG3WJ",
        "outputId": "2e98cab9-12ef-4fb9-af29-8b66bf57b814"
      },
      "execution_count": 10,
      "outputs": [
        {
          "output_type": "stream",
          "name": "stdout",
          "text": [
            "\n",
            "Anime recommendations for 'Death Note':\n",
            "[('Death Note Rewrite', np.float64(0.9979434413410966)), ('Mousou Dairinin', np.float64(0.9774676768411148)), ('Higurashi no Naku Koro ni Kai', np.float64(0.9284157763357779)), ('Higurashi no Naku Koro ni Rei', np.float64(0.9098909013909144)), ('Mirai Nikki (TV)', np.float64(0.8872560603222566))]\n",
            "\n",
            "Anime recommendations for 'Attack on Titan':\n",
            "Anime 'Attack on Titan' not found in the dataset.\n",
            "\n",
            "Anime recommendations for 'Spirited Away':\n",
            "Anime 'Spirited Away' not found in the dataset.\n",
            "\n",
            "Anime recommendations for 'One Punch Man':\n",
            "[('One Punch Man Specials', np.float64(0.9975335382072843)), ('One Punch Man: Road to Hero', np.float64(0.9974789216287816)), ('Tentai Senshi Sunred 2nd Season', np.float64(0.8985723946914664)), ('Tentai Senshi Sunred', np.float64(0.8974464984061024)), ('Tentai Senshi Sunred: Short Corner', np.float64(0.8787361845698709))]\n",
            "\n",
            "Anime recommendations for 'Naruto' with a higher threshold (0.5):\n",
            "[('Naruto: Shippuuden', np.float64(0.9999496292892799)), ('Boruto: Naruto the Movie - Naruto ga Hokage ni Natta Hi', np.float64(0.9999481049853969)), ('Boruto: Naruto the Movie', np.float64(0.999857229347821)), ('Naruto x UT', np.float64(0.9998356939954685)), ('Naruto: Shippuuden Movie 4 - The Lost Tower', np.float64(0.9997551002626752))]\n",
            "\n",
            "Anime recommendations for 'Naruto' with a lower threshold (0.1):\n",
            "[('Naruto: Shippuuden', np.float64(0.9999496292892799)), ('Boruto: Naruto the Movie - Naruto ga Hokage ni Natta Hi', np.float64(0.9999481049853969)), ('Boruto: Naruto the Movie', np.float64(0.999857229347821)), ('Naruto x UT', np.float64(0.9998356939954685)), ('Naruto: Shippuuden Movie 4 - The Lost Tower', np.float64(0.9997551002626752))]\n"
          ]
        }
      ]
    },
    {
      "cell_type": "code",
      "source": [
        "import pandas as pd\n",
        "import matplotlib.pyplot as plt\n",
        "\n",
        "# Ensure 'episodes' is numeric\n",
        "anime_df['episodes'] = pd.to_numeric(anime_df['episodes'], errors='coerce')\n",
        "\n",
        "# --- Exploratory Data Analysis (EDA) ---\n",
        "print(\"\\n--- Exploratory Data Analysis ---\")\n",
        "\n",
        "# 1. Basic dataset info\n",
        "print(\"\\nDataset Info:\")\n",
        "anime_df.info()\n",
        "\n",
        "# 2. Descriptive stats\n",
        "print(\"\\nDescriptive Statistics:\")\n",
        "print(anime_df.describe())\n",
        "\n",
        "# 3. Anime type distribution\n",
        "print(\"\\nValue counts for 'type':\")\n",
        "print(anime_df['type'].value_counts())\n",
        "\n",
        "# 4. Top 10 genres\n",
        "print(\"\\nTop 10 most frequent genres:\")\n",
        "all_genres = ', '.join(anime_df['genre'].dropna()).split(', ')\n",
        "genre_counts = pd.Series(all_genres).value_counts()\n",
        "print(genre_counts.head(10))\n",
        "\n",
        "# 5. Rating distribution\n",
        "print(\"\\nDistribution of 'rating':\")\n",
        "anime_df['rating'].hist(bins=20, color='skyblue', edgecolor='black')\n",
        "plt.title('Distribution of Anime Ratings')\n",
        "plt.xlabel('Rating')\n",
        "plt.ylabel('Number of Anime')\n",
        "plt.grid(True)\n",
        "plt.show()\n",
        "\n",
        "# 6. Episode distribution (limit to <= 100)\n",
        "print(\"\\nDistribution of 'episodes' (excluding values over 100):\")\n",
        "anime_df[anime_df['episodes'] <= 100]['episodes'].hist(bins=50, color='salmon', edgecolor='black')\n",
        "plt.title('Distribution of Anime Episodes (up to 100)')\n",
        "plt.xlabel('Number of Episodes')\n",
        "plt.ylabel('Number of Anime')\n",
        "plt.grid(True)\n",
        "plt.show()\n",
        "\n",
        "# 7. Mean rating by anime type\n",
        "print(\"\\nAverage rating by anime type:\")\n",
        "print(anime_df.groupby('type')['rating'].mean().sort_values(ascending=False))\n"
      ],
      "metadata": {
        "colab": {
          "base_uri": "https://localhost:8080/",
          "height": 1000
        },
        "id": "WOQhED7AHG4-",
        "outputId": "6099f6f1-bde7-42a5-b70f-1c9349deb3c1"
      },
      "execution_count": 12,
      "outputs": [
        {
          "output_type": "stream",
          "name": "stdout",
          "text": [
            "\n",
            "--- Exploratory Data Analysis ---\n",
            "\n",
            "Dataset Info:\n",
            "<class 'pandas.core.frame.DataFrame'>\n",
            "RangeIndex: 12015 entries, 0 to 12014\n",
            "Data columns (total 7 columns):\n",
            " #   Column    Non-Null Count  Dtype  \n",
            "---  ------    --------------  -----  \n",
            " 0   anime_id  12015 non-null  int64  \n",
            " 1   name      12015 non-null  object \n",
            " 2   genre     12015 non-null  object \n",
            " 3   type      12015 non-null  object \n",
            " 4   episodes  11828 non-null  float64\n",
            " 5   rating    12015 non-null  float64\n",
            " 6   members   12015 non-null  int64  \n",
            "dtypes: float64(2), int64(2), object(3)\n",
            "memory usage: 657.2+ KB\n",
            "\n",
            "Descriptive Statistics:\n",
            "           anime_id      episodes        rating       members\n",
            "count  12015.000000  11828.000000  12015.000000  1.201500e+04\n",
            "mean   13635.006742     12.488671      6.478359  1.835192e+04\n",
            "std    11229.594481     47.100876      1.023806  5.537660e+04\n",
            "min        1.000000      1.000000      1.670000  1.200000e+01\n",
            "25%     3390.500000      1.000000      5.890000  2.250000e+02\n",
            "50%     9958.000000      2.000000      6.570000  1.553000e+03\n",
            "75%    23726.000000     12.000000      7.180000  9.589000e+03\n",
            "max    34519.000000   1818.000000     10.000000  1.013917e+06\n",
            "\n",
            "Value counts for 'type':\n",
            "type\n",
            "TV         3668\n",
            "OVA        3284\n",
            "Movie      2257\n",
            "Special    1670\n",
            "ONA         648\n",
            "Music       488\n",
            "Name: count, dtype: int64\n",
            "\n",
            "Top 10 most frequent genres:\n",
            "Comedy           4574\n",
            "Action           2767\n",
            "Adventure        2315\n",
            "Fantasy          2241\n",
            "Sci-Fi           2036\n",
            "Drama            1976\n",
            "Shounen          1684\n",
            "Kids             1598\n",
            "Romance          1437\n",
            "Slice of Life    1204\n",
            "Name: count, dtype: int64\n",
            "\n",
            "Distribution of 'rating':\n"
          ]
        },
        {
          "output_type": "display_data",
          "data": {
            "text/plain": [
              "<Figure size 640x480 with 1 Axes>"
            ],
            "image/png": "[encoded data removed]"
          },
          "metadata": {}
        },
        {
          "output_type": "stream",
          "name": "stdout",
          "text": [
            "\n",
            "Distribution of 'episodes' (excluding values over 100):\n"
          ]
        },
        {
          "output_type": "display_data",
          "data": {
            "text/plain": [
              "<Figure size 640x480 with 1 Axes>"
            ],
            "image/png": "[encoded data removed]"
          },
          "metadata": {}
        },
        {
          "output_type": "stream",
          "name": "stdout",
          "text": [
            "\n",
            "Average rating by anime type:\n",
            "type\n",
            "TV         6.903321\n",
            "Special    6.523126\n",
            "OVA        6.375411\n",
            "Movie      6.334431\n",
            "ONA        5.650293\n",
            "Music      5.588996\n",
            "Name: rating, dtype: float64\n"
          ]
        }
      ]
    },
    {
      "cell_type": "code",
      "source": [
        "# prompt: Explore on collaborative filtering methods like user-based and item-based.\n",
        "\n",
        "# Collaborative Filtering Methods\n",
        "\n",
        "# User-Based Collaborative Filtering\n",
        "# This method finds users who are similar to the target user based on their ratings\n",
        "# and recommends items that those similar users liked but the target user has not yet seen.\n",
        "\n",
        "# Item-Based Collaborative Filtering\n",
        "# This method finds items that are similar to the items that the target user liked\n",
        "# based on ratings from all users and recommends those similar items.\n",
        "\n",
        "# For implementing collaborative filtering, we first need user-item interaction data.\n",
        "# The current dataset 'anime_df' contains anime metadata, but not user ratings for specific anime.\n",
        "# A separate dataset with user ratings (e.g., user_id, anime_id, rating) is required\n",
        "# to build a collaborative filtering system.\n",
        "\n",
        "# Let's assume we have a hypothetical 'ratings_df' dataset with user ratings.\n",
        "# We will simulate creating a small ratings dataframe for demonstration purposes.\n",
        "\n",
        "# Create a dummy ratings DataFrame for demonstration\n",
        "ratings_data = {\n",
        "    'user_id': [1, 1, 1, 2, 2, 3, 3, 3, 4, 4, 4],\n",
        "    'anime_id': [20, 24, 50, 20, 70, 24, 70, 11741, 50, 11741, 16498], # Using actual anime_id from the dataset\n",
        "    'rating': [8, 9, 7, 9, 6, 10, 8, 9, 8, 7, 9]\n",
        "}\n",
        "ratings_df = pd.DataFrame(ratings_data)\n",
        "\n",
        "# Merge with anime data to get anime names\n",
        "# Ensure anime_id in ratings_df matches 'anime_id' column in anime_df\n",
        "# Using the correct column name 'anime_id' based on the anime_df structure\n",
        "ratings_df_merged = pd.merge(ratings_df, anime_df[['anime_id', 'name']], on='anime_id', how='left')\n",
        "\n",
        "print(\"\\n--- Demonstrating Collaborative Filtering Concept (Requires Rating Data) ---\")\n",
        "print(\"\\nExample User-Item Rating Data:\")\n",
        "print(ratings_df_merged)\n",
        "\n",
        "# To implement user-based or item-based CF, you typically:\n",
        "# 1. Create a user-item matrix (or a similar data structure).\n",
        "# 2. Calculate similarity between users (user-based) or items (item-based).\n",
        "#    Common similarity metrics include Cosine Similarity or Pearson Correlation.\n",
        "# 3. Generate recommendations based on similarity and ratings.\n",
        "\n",
        "# User-Item Matrix\n",
        "# We'll pivot the ratings data to create a user-item matrix.\n",
        "# Fill missing values with 0 or a placeholder representing no rating.\n",
        "user_item_matrix = ratings_df_merged.pivot_table(index='user_id', columns='name', values='rating').fillna(0)\n",
        "\n",
        "print(\"\\nUser-Item Matrix:\")\n",
        "print(user_item_matrix)\n",
        "\n",
        "# User-Based Similarity (Example using Cosine Similarity)\n",
        "# Calculate similarity between users based on their rating patterns\n",
        "from sklearn.metrics.pairwise import cosine_similarity\n",
        "\n",
        "# Calculate cosine similarity between rows (users)\n",
        "user_similarity = cosine_similarity(user_item_matrix)\n",
        "user_similarity_df = pd.DataFrame(user_similarity, index=user_item_matrix.index, columns=user_item_matrix.index)\n",
        "\n",
        "print(\"\\nUser Similarity Matrix (User-Based CF):\")\n",
        "print(user_similarity_df)\n",
        "\n",
        "# Example Recommendation for User 1 (User-Based)\n",
        "# Find users similar to User 1 and recommend items they liked but User 1 didn't rate.\n",
        "target_user_id = 1\n",
        "similar_users = user_similarity_df[target_user_id].sort_values(ascending=False)\n",
        "# Exclude the target user themselves\n",
        "similar_users = similar_users.drop(target_user_id)\n",
        "\n",
        "print(f\"\\nUsers similar to User {target_user_id}:\")\n",
        "print(similar_users)\n",
        "\n",
        "# To get recommendations, we would look at the ratings of these similar users\n",
        "# for items not rated by the target user and predict a rating or recommend the highest-rated items.\n",
        "# This requires more extensive rating data to be meaningful.\n",
        "\n",
        "# Item-Based Similarity (Example using Cosine Similarity)\n",
        "# Calculate similarity between items based on how users rated them\n",
        "# Calculate cosine similarity between columns (items)\n",
        "item_similarity = cosine_similarity(user_item_matrix.T) # Transpose the matrix to calculate similarity between columns\n",
        "item_similarity_df = pd.DataFrame(item_similarity, index=user_item_matrix.columns, columns=user_item_matrix.columns)\n",
        "\n",
        "print(\"\\nItem Similarity Matrix (Item-Based CF):\")\n",
        "print(item_similarity_df)\n",
        "\n",
        "# Example Recommendation based on an item liked by User 1 (Item-Based)\n",
        "# Suppose User 1 liked 'Naruto'. Find items similar to 'Naruto' that User 1 hasn't seen.\n",
        "liked_item = 'Naruto'\n",
        "if liked_item in item_similarity_df.index:\n",
        "    similar_items = item_similarity_df[liked_item].sort_values(ascending=False)\n",
        "    # Exclude the item itself\n",
        "    similar_items = similar_items.drop(liked_item)\n",
        "\n",
        "    print(f\"\\nItems similar to '{liked_item}' (Item-Based CF):\")\n",
        "    print(similar_items)\n",
        "else:\n",
        "    print(f\"\\nItem '{liked_item}' not found in the dummy ratings data for Item-Based CF.\")\n",
        "\n",
        "# Key Differences:\n",
        "# User-Based: \"Users who liked this item also liked...\" (Similarity based on user rating patterns)\n",
        "# Item-Based: \"Users who liked this item also liked this other item...\" (Similarity based on how users rated items)\n",
        "\n",
        "# Advantages & Disadvantages:\n",
        "# User-Based:\n",
        "# + Good at discovering new, unexpected items (serendipity).\n",
        "# - Suffers from the \"cold-start problem\" for new users.\n",
        "# - Performance can degrade with a large number of users.\n",
        "# - Scalability issues for large datasets.\n",
        "\n",
        "# Item-Based:\n",
        "# + Generally scales better with the number of users than user-based.\n",
        "# + Recommendations are more stable as item similarity changes slower than user preferences.\n",
        "# - Suffers from the \"cold-start problem\" for new items.\n",
        "# - May recommend items too similar to what the user already liked (less serendipity).\n",
        "\n",
        "# In practice, implementing a full collaborative filtering system involves:\n",
        "# - Handling sparse matrices efficiently.\n",
        "# - Developing strategies for cold-start users and items.\n",
        "# - Using more sophisticated prediction or ranking algorithms.\n",
        "# - Evaluating recommendations using metrics like Precision, Recall, F1-score, RMSE, etc.\n",
        "\n",
        "# The current content-based recommendation system using cosine similarity on genre and rating\n",
        "# is a good starting point, but collaborative filtering provides a different perspective\n",
        "# by leveraging user interaction data.\n"
      ],
      "metadata": {
        "colab": {
          "base_uri": "https://localhost:8080/"
        },
        "id": "unq78H3qHR96",
        "outputId": "ac32d708-756b-4a05-ea53-ea944a2fe767"
      },
      "execution_count": 13,
      "outputs": [
        {
          "output_type": "stream",
          "name": "stdout",
          "text": [
            "\n",
            "--- Demonstrating Collaborative Filtering Concept (Requires Rating Data) ---\n",
            "\n",
            "Example User-Item Rating Data:\n",
            "    user_id  anime_id  rating                   name\n",
            "0         1        20       8                 Naruto\n",
            "1         1        24       9          School Rumble\n",
            "2         1        50       7  Aa! Megami-sama! (TV)\n",
            "3         2        20       9                 Naruto\n",
            "4         2        70       6                    NaN\n",
            "5         3        24      10          School Rumble\n",
            "6         3        70       8                    NaN\n",
            "7         3     11741       9   Fate/Zero 2nd Season\n",
            "8         4        50       8  Aa! Megami-sama! (TV)\n",
            "9         4     11741       7   Fate/Zero 2nd Season\n",
            "10        4     16498       9     Shingeki no Kyojin\n",
            "\n",
            "User-Item Matrix:\n",
            "name     Aa! Megami-sama! (TV)  Fate/Zero 2nd Season  Naruto  School Rumble  \\\n",
            "user_id                                                                       \n",
            "1                          7.0                   0.0     8.0            9.0   \n",
            "2                          0.0                   0.0     9.0            0.0   \n",
            "3                          0.0                   9.0     0.0           10.0   \n",
            "4                          8.0                   7.0     0.0            0.0   \n",
            "\n",
            "name     Shingeki no Kyojin  \n",
            "user_id                      \n",
            "1                       0.0  \n",
            "2                       0.0  \n",
            "3                       0.0  \n",
            "4                       9.0  \n",
            "\n",
            "User Similarity Matrix (User-Based CF):\n",
            "user_id         1         2         3         4\n",
            "user_id                                        \n",
            "1        1.000000  0.574367  0.480289  0.288660\n",
            "2        0.574367  1.000000  0.000000  0.000000\n",
            "3        0.480289  0.000000  1.000000  0.336202\n",
            "4        0.288660  0.000000  0.336202  1.000000\n",
            "\n",
            "Users similar to User 1:\n",
            "user_id\n",
            "2    0.574367\n",
            "3    0.480289\n",
            "4    0.288660\n",
            "Name: 1, dtype: float64\n",
            "\n",
            "Item Similarity Matrix (Item-Based CF):\n",
            "name                   Aa! Megami-sama! (TV)  Fate/Zero 2nd Season    Naruto  \\\n",
            "name                                                                           \n",
            "Aa! Megami-sama! (TV)               1.000000              0.462037  0.437487   \n",
            "Fate/Zero 2nd Season                0.462037              1.000000  0.000000   \n",
            "Naruto                              0.437487              0.000000  1.000000   \n",
            "School Rumble                       0.440516              0.586721  0.444436   \n",
            "Shingeki no Kyojin                  0.752577              0.613941  0.000000   \n",
            "\n",
            "name                   School Rumble  Shingeki no Kyojin  \n",
            "name                                                      \n",
            "Aa! Megami-sama! (TV)       0.440516            0.752577  \n",
            "Fate/Zero 2nd Season        0.586721            0.613941  \n",
            "Naruto                      0.444436            0.000000  \n",
            "School Rumble               1.000000            0.000000  \n",
            "Shingeki no Kyojin          0.000000            1.000000  \n",
            "\n",
            "Items similar to 'Naruto' (Item-Based CF):\n",
            "name\n",
            "School Rumble            0.444436\n",
            "Aa! Megami-sama! (TV)    0.437487\n",
            "Fate/Zero 2nd Season     0.000000\n",
            "Shingeki no Kyojin       0.000000\n",
            "Name: Naruto, dtype: float64\n"
          ]
        }
      ]
    },
    {
      "cell_type": "markdown",
      "source": [
        "1. Can you explain the difference between user-based and item-based collaborative filtering?\n",
        "\n",
        "---\n",
        "\n",
        "### 1. **User-Based Collaborative Filtering (UBCF)**\n",
        "\n",
        "* **Idea**: Recommend items to a user based on what **similar users** liked.\n",
        "\n",
        "* **How it works**:\n",
        "\n",
        "  * Find users with similar preferences (based on rating history).\n",
        "  * Recommend items that those similar users liked, which the current user hasn't seen yet.\n",
        "\n",
        "* **Example**:\n",
        "  If Alice and Bob both liked the same 3 anime, and Bob also liked a 4th anime, recommend that 4th anime to Alice.\n",
        "\n",
        "* **Similarity Computed Between**: **Users**\n",
        "\n",
        "* **Common Similarity Metrics**: Cosine similarity, Pearson correlation\n",
        "\n",
        "#### Pros:\n",
        "\n",
        "* Captures social-like behavior (“people like you liked this”)\n",
        "\n",
        "#### Cons:\n",
        "\n",
        "* Can be slow or sparse with many users\n",
        "* Performance drops with new users (cold start)\n",
        "\n",
        "---\n",
        "\n",
        "###  2. **Item-Based Collaborative Filtering (IBCF)**\n",
        "\n",
        "* **Idea**: Recommend items **similar to the ones a user already liked**.\n",
        "\n",
        "* **How it works**:\n",
        "\n",
        "  * For each item the user likes, find similar items (based on how other users rated them).\n",
        "  * Recommend those similar items.\n",
        "\n",
        "* **Similarity Computed Between**: **Items**\n",
        "\n",
        "* **Common Similarity Metrics**: Cosine similarity, adjusted cosine similarity\n",
        "\n",
        "#### Pros:\n",
        "\n",
        "* Scales better with large user bases\n",
        "* More stable over time (items change less frequently than users)\n",
        "\n",
        "#### Cons:\n",
        "\n",
        "* May miss out on social signals (e.g., “users like you liked...”)\n",
        "\n",
        "---\n",
        "\n",
        "### Summary Table:\n",
        "\n",
        "| Feature                 | User-Based CF              | Item-Based CF               |\n",
        "| ----------------------- | -------------------------- | --------------------------- |\n",
        "| Similarity Between      | Users                      | Items                       |\n",
        "| Recommendation Based On | Similar users’ preferences | Similar items to liked ones |\n",
        "| Better For              | Small user bases           | Large, stable item sets     |\n",
        "| Cold Start Issue        | New users                  | New items                   |\n",
        "| Performance             | Can be slower              | Often faster                |\n",
        "\n",
        "\n"
      ],
      "metadata": {
        "id": "wiZuRLT4i2V6"
      }
    },
    {
      "cell_type": "markdown",
      "source": [
        "2. What is collaborative filtering, and how does it work?\n",
        "\n",
        "**Collaborative Filtering** is a popular technique used in recommendation systems to suggest items (like movies, books, or anime) based on **user preferences and behavior** rather than item content.\n",
        "\n",
        "---\n",
        "\n",
        "###  What Is Collaborative Filtering?\n",
        "\n",
        "It is a method that makes automatic predictions about a user's interests by collecting preferences or taste information from **many users** (collaboration).\n",
        "\n",
        "---\n",
        "\n",
        "###  Core Idea\n",
        "\n",
        "> \"If User A and User B liked similar items in the past, and User A likes a new item, then User B might like it too.\"\n",
        "\n",
        "---\n",
        "\n",
        "###  How It Works\n",
        "\n",
        "Collaborative filtering operates using a **user-item interaction matrix**, where rows represent users, columns represent items, and cells contain ratings (explicit) or interactions (implicit like clicks, views).\n",
        "\n",
        "#### Two Main Types:\n",
        "\n",
        "---\n",
        "\n",
        "#### 1. **User-Based Collaborative Filtering**\n",
        "\n",
        "* Compares users to find similar ones.\n",
        "* Recommends items liked by similar users.\n",
        "\n",
        "#### 2. **Item-Based Collaborative Filtering**\n",
        "\n",
        "* Compares items to find similar ones.\n",
        "* Recommends items similar to what the user has already liked.\n",
        "\n",
        "---\n",
        "\n",
        "### Example Matrix:\n",
        "\n",
        "|        | Anime A | Anime B | Anime C | Anime D |\n",
        "| ------ | ------- | ------- | ------- | ------- |\n",
        "| User 1 | 5       | 4       | ?       | 3       |\n",
        "| User 2 | 5       | 4       | 2       | 3       |\n",
        "| User 3 | 1       | 2       | 5       | ?       |\n",
        "\n",
        "* Collaborative filtering will predict `User 1's` rating for **Anime C** based on similar users (like User 2) or similar items.\n",
        "\n",
        "---\n",
        "\n",
        "###  Key Techniques:\n",
        "\n",
        "* **Similarity Calculation**: Cosine similarity, Pearson correlation\n",
        "* **Matrix Factorization**: Advanced methods like SVD, ALS\n",
        "* **Deep Learning**: Neural Collaborative Filtering (NCF)\n",
        "\n",
        "---\n",
        "\n",
        "###  Pros:\n",
        "\n",
        "* No need for item metadata or content\n",
        "* Can discover complex patterns and relationships\n",
        "\n",
        "### Cons:\n",
        "\n",
        "* **Cold Start**: Struggles with new users/items (no data)\n",
        "* **Sparsity**: Most users rate only a few items\n",
        "* **Scalability**: Can be slow for very large datasets\n"
      ],
      "metadata": {
        "id": "hY1acy8Qj0Nt"
      }
    },
    {
      "cell_type": "code",
      "source": [],
      "metadata": {
        "id": "-LIsg5Sujytx"
      },
      "execution_count": 9,
      "outputs": []
    }
  ],
  "metadata": {
    "kernelspec": {
      "display_name": "Python 3",
      "language": "python",
      "name": "python3"
    },
    "language_info": {
      "name": "python",
      "version": "3.9"
    },
    "colab": {
      "provenance": [],
      "include_colab_link": true
    }
  },
  "nbformat": 4,
  "nbformat_minor": 0
}