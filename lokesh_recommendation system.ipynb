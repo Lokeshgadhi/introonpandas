{
  "cells": [
    {
      "cell_type": "markdown",
      "metadata": {
        "id": "view-in-github",
        "colab_type": "text"
      },
      "source": [
        "<a href=\"https://colab.research.google.com/github/Lokeshgadhi/introonpandas/blob/main/lokesh_recommendation%20system.ipynb\" target=\"_parent\"><img src=\"https://colab.research.google.com/assets/colab-badge.svg\" alt=\"Open In Colab\"/></a>"
      ]
    },
    {
      "cell_type": "markdown",
      "metadata": {
        "id": "PYq1j_34iYu8"
      },
      "source": [
        "# Anime Recommendation System using Cosine Similarity"
      ]
    },
    {
      "cell_type": "code",
      "metadata": {
        "colab": {
          "base_uri": "https://localhost:8080/"
        },
        "id": "hINSOW50iYu9",
        "outputId": "73d9bbf6-6510-492f-af4a-48dac51a05e7"
      },
      "source": [
        "!pip install pandas scikit-learn scipy"
      ],
      "execution_count": 1,
      "outputs": [
        {
          "output_type": "stream",
          "name": "stdout",
          "text": [
            "Requirement already satisfied: pandas in /usr/local/lib/python3.11/dist-packages (2.2.2)\n",
            "Requirement already satisfied: scikit-learn in /usr/local/lib/python3.11/dist-packages (1.6.1)\n",
            "Requirement already satisfied: scipy in /usr/local/lib/python3.11/dist-packages (1.15.2)\n",
            "Requirement already satisfied: numpy>=1.23.2 in /usr/local/lib/python3.11/dist-packages (from pandas) (2.0.2)\n",
            "Requirement already satisfied: python-dateutil>=2.8.2 in /usr/local/lib/python3.11/dist-packages (from pandas) (2.9.0.post0)\n",
            "Requirement already satisfied: pytz>=2020.1 in /usr/local/lib/python3.11/dist-packages (from pandas) (2025.2)\n",
            "Requirement already satisfied: tzdata>=2022.7 in /usr/local/lib/python3.11/dist-packages (from pandas) (2025.2)\n",
            "Requirement already satisfied: joblib>=1.2.0 in /usr/local/lib/python3.11/dist-packages (from scikit-learn) (1.4.2)\n",
            "Requirement already satisfied: threadpoolctl>=3.1.0 in /usr/local/lib/python3.11/dist-packages (from scikit-learn) (3.6.0)\n",
            "Requirement already satisfied: six>=1.5 in /usr/local/lib/python3.11/dist-packages (from python-dateutil>=2.8.2->pandas) (1.17.0)\n"
          ]
        }
      ]
    },
    {
      "cell_type": "code",
      "metadata": {
        "id": "4U9pGlpoiYu-"
      },
      "source": [
        "import pandas as pd\n",
        "import numpy as np\n",
        "from sklearn.feature_extraction.text import TfidfVectorizer\n",
        "from sklearn.metrics.pairwise import cosine_similarity\n",
        "from sklearn.preprocessing import MinMaxScaler\n",
        "from sklearn.model_selection import train_test_split\n",
        "from scipy.sparse import hstack"
      ],
      "execution_count": 2,
      "outputs": []
    },
    {
      "cell_type": "code",
      "metadata": {
        "colab": {
          "base_uri": "https://localhost:8080/"
        },
        "id": "hfw5ZVgAiYu-",
        "outputId": "b7c48a27-c4c0-4af3-d006-fcf9ad682610"
      },
      "source": [
        "# Load dataset\n",
        "anime_df = pd.read_csv(\"anime.csv\")\n",
        "print(\"Dataset loaded successfully.\\n\")\n",
        "print(anime_df.head())"
      ],
      "execution_count": 3,
      "outputs": [
        {
          "output_type": "stream",
          "name": "stdout",
          "text": [
            "Dataset loaded successfully.\n",
            "\n",
            "   anime_id                              name  \\\n",
            "0     32281                    Kimi no Na wa.   \n",
            "1      5114  Fullmetal Alchemist: Brotherhood   \n",
            "2     28977                          Gintama°   \n",
            "3      9253                       Steins;Gate   \n",
            "4      9969                     Gintama&#039;   \n",
            "\n",
            "                                               genre   type episodes  rating  \\\n",
            "0               Drama, Romance, School, Supernatural  Movie        1    9.37   \n",
            "1  Action, Adventure, Drama, Fantasy, Magic, Mili...     TV       64    9.26   \n",
            "2  Action, Comedy, Historical, Parody, Samurai, S...     TV       51    9.25   \n",
            "3                                   Sci-Fi, Thriller     TV       24    9.17   \n",
            "4  Action, Comedy, Historical, Parody, Samurai, S...     TV       51    9.16   \n",
            "\n",
            "   members  \n",
            "0   200630  \n",
            "1   793665  \n",
            "2   114262  \n",
            "3   673572  \n",
            "4   151266  \n"
          ]
        }
      ]
    },
    {
      "cell_type": "code",
      "metadata": {
        "colab": {
          "base_uri": "https://localhost:8080/"
        },
        "id": "agCXZZnXiYu_",
        "outputId": "ec5d2bf3-319f-4130-fb6a-1e01cdae515b"
      },
      "source": [
        "# Data cleaning\n",
        "anime_df.dropna(subset=['genre', 'rating'], inplace=True)\n",
        "anime_df.fillna({'episodes': 0}, inplace=True)\n",
        "anime_df.drop_duplicates(subset='name', inplace=True)\n",
        "anime_df.reset_index(drop=True, inplace=True)\n",
        "print(\"Data cleaned and ready for feature extraction.\")"
      ],
      "execution_count": 4,
      "outputs": [
        {
          "output_type": "stream",
          "name": "stdout",
          "text": [
            "Data cleaned and ready for feature extraction.\n"
          ]
        }
      ]
    },
    {
      "cell_type": "code",
      "metadata": {
        "colab": {
          "base_uri": "https://localhost:8080/"
        },
        "id": "H-sTb9w3iYu_",
        "outputId": "91043c15-43b9-4e09-c5f1-a5312b48e219"
      },
      "source": [
        "# Feature extraction\n",
        "tfidf = TfidfVectorizer(stop_words='english')\n",
        "genre_matrix = tfidf.fit_transform(anime_df['genre'])\n",
        "scaler = MinMaxScaler()\n",
        "normalized_ratings = scaler.fit_transform(anime_df[['rating']])\n",
        "features = hstack([genre_matrix, normalized_ratings])\n",
        "print(\"Features combined using genres and ratings.\")"
      ],
      "execution_count": 5,
      "outputs": [
        {
          "output_type": "stream",
          "name": "stdout",
          "text": [
            "Features combined using genres and ratings.\n"
          ]
        }
      ]
    },
    {
      "cell_type": "code",
      "metadata": {
        "colab": {
          "base_uri": "https://localhost:8080/"
        },
        "id": "dUmwfs4XiYu_",
        "outputId": "51ea174d-3c7c-443f-ad68-be6549b219e7"
      },
      "source": [
        "# Cosine similarity matrix\n",
        "cosine_sim = cosine_similarity(features, features)\n",
        "print(\"Cosine similarity matrix computed.\")"
      ],
      "execution_count": 6,
      "outputs": [
        {
          "output_type": "stream",
          "name": "stdout",
          "text": [
            "Cosine similarity matrix computed.\n"
          ]
        }
      ]
    },
    {
      "cell_type": "code",
      "metadata": {
        "id": "z6rAphs_iYu_"
      },
      "source": [
        "# Recommendation function\n",
        "def recommend_anime(title, top_n=10, threshold=0.2):\n",
        "    if title not in anime_df['name'].values:\n",
        "        return f\"Anime '{title}' not found in the dataset.\"\n",
        "    idx = anime_df[anime_df['name'] == title].index[0]\n",
        "    sim_scores = list(enumerate(cosine_sim[idx]))\n",
        "    sim_scores = sorted(sim_scores, key=lambda x: x[1], reverse=True)\n",
        "    sim_scores = [x for x in sim_scores if x[0] != idx and x[1] >= threshold]\n",
        "    top_anime = sim_scores[:top_n]\n",
        "    return [(anime_df.iloc[i]['name'], score) for i, score in top_anime]"
      ],
      "execution_count": 7,
      "outputs": []
    },
    {
      "cell_type": "code",
      "metadata": {
        "colab": {
          "base_uri": "https://localhost:8080/"
        },
        "id": "9_MOt9TniYu_",
        "outputId": "3ce1ebd5-7cbe-4ffe-93fe-93701e3f4f0b"
      },
      "source": [
        "# Try a recommendation\n",
        "print(recommend_anime(\"Naruto\", top_n=5))"
      ],
      "execution_count": 8,
      "outputs": [
        {
          "output_type": "stream",
          "name": "stdout",
          "text": [
            "[('Naruto: Shippuuden', np.float64(0.9999496292892799)), ('Boruto: Naruto the Movie - Naruto ga Hokage ni Natta Hi', np.float64(0.9999481049853969)), ('Boruto: Naruto the Movie', np.float64(0.999857229347821)), ('Naruto x UT', np.float64(0.9998356939954685)), ('Naruto: Shippuuden Movie 4 - The Lost Tower', np.float64(0.9997551002626752))]\n"
          ]
        }
      ]
    },
    {
      "cell_type": "code",
      "metadata": {
        "colab": {
          "base_uri": "https://localhost:8080/"
        },
        "id": "8_oJBC8GiYu_",
        "outputId": "9a238eac-52b1-4fca-efdd-db0b1dbb6256"
      },
      "source": [
        "# Evaluate using Precision@10\n",
        "train, test = train_test_split(anime_df, test_size=0.2, random_state=42)\n",
        "def evaluate_precision(test_set):\n",
        "    hits = 0\n",
        "    total = 0\n",
        "    for title in test_set['name'].sample(100, random_state=42):\n",
        "        recs = recommend_anime(title, top_n=10)\n",
        "        if isinstance(recs, str):\n",
        "            continue\n",
        "        rec_titles = [r[0] for r in recs]\n",
        "        hits += len(set(rec_titles).intersection(set(test_set['name']))) > 0\n",
        "        total += 1\n",
        "    precision = hits / total if total > 0 else 0\n",
        "    print(f\"Precision@10: {precision:.2f}\")\n",
        "\n",
        "evaluate_precision(test)"
      ],
      "execution_count": 9,
      "outputs": [
        {
          "output_type": "stream",
          "name": "stdout",
          "text": [
            "Precision@10: 0.87\n"
          ]
        }
      ]
    },
    {
      "cell_type": "markdown",
      "source": [
        "1. Can you explain the difference between user-based and item-based collaborative filtering?\n",
        "\n",
        "---\n",
        "\n",
        "### 1. **User-Based Collaborative Filtering (UBCF)**\n",
        "\n",
        "* **Idea**: Recommend items to a user based on what **similar users** liked.\n",
        "\n",
        "* **How it works**:\n",
        "\n",
        "  * Find users with similar preferences (based on rating history).\n",
        "  * Recommend items that those similar users liked, which the current user hasn't seen yet.\n",
        "\n",
        "* **Example**:\n",
        "  If Alice and Bob both liked the same 3 anime, and Bob also liked a 4th anime, recommend that 4th anime to Alice.\n",
        "\n",
        "* **Similarity Computed Between**: **Users**\n",
        "\n",
        "* **Common Similarity Metrics**: Cosine similarity, Pearson correlation\n",
        "\n",
        "#### Pros:\n",
        "\n",
        "* Captures social-like behavior (“people like you liked this”)\n",
        "\n",
        "#### Cons:\n",
        "\n",
        "* Can be slow or sparse with many users\n",
        "* Performance drops with new users (cold start)\n",
        "\n",
        "---\n",
        "\n",
        "###  2. **Item-Based Collaborative Filtering (IBCF)**\n",
        "\n",
        "* **Idea**: Recommend items **similar to the ones a user already liked**.\n",
        "\n",
        "* **How it works**:\n",
        "\n",
        "  * For each item the user likes, find similar items (based on how other users rated them).\n",
        "  * Recommend those similar items.\n",
        "\n",
        "* **Similarity Computed Between**: **Items**\n",
        "\n",
        "* **Common Similarity Metrics**: Cosine similarity, adjusted cosine similarity\n",
        "\n",
        "#### Pros:\n",
        "\n",
        "* Scales better with large user bases\n",
        "* More stable over time (items change less frequently than users)\n",
        "\n",
        "#### Cons:\n",
        "\n",
        "* May miss out on social signals (e.g., “users like you liked...”)\n",
        "\n",
        "---\n",
        "\n",
        "### Summary Table:\n",
        "\n",
        "| Feature                 | User-Based CF              | Item-Based CF               |\n",
        "| ----------------------- | -------------------------- | --------------------------- |\n",
        "| Similarity Between      | Users                      | Items                       |\n",
        "| Recommendation Based On | Similar users’ preferences | Similar items to liked ones |\n",
        "| Better For              | Small user bases           | Large, stable item sets     |\n",
        "| Cold Start Issue        | New users                  | New items                   |\n",
        "| Performance             | Can be slower              | Often faster                |\n",
        "\n",
        "\n"
      ],
      "metadata": {
        "id": "wiZuRLT4i2V6"
      }
    },
    {
      "cell_type": "markdown",
      "source": [
        "2. What is collaborative filtering, and how does it work?\n",
        "\n",
        "**Collaborative Filtering** is a popular technique used in recommendation systems to suggest items (like movies, books, or anime) based on **user preferences and behavior** rather than item content.\n",
        "\n",
        "---\n",
        "\n",
        "###  What Is Collaborative Filtering?\n",
        "\n",
        "It is a method that makes automatic predictions about a user's interests by collecting preferences or taste information from **many users** (collaboration).\n",
        "\n",
        "---\n",
        "\n",
        "###  Core Idea\n",
        "\n",
        "> \"If User A and User B liked similar items in the past, and User A likes a new item, then User B might like it too.\"\n",
        "\n",
        "---\n",
        "\n",
        "###  How It Works\n",
        "\n",
        "Collaborative filtering operates using a **user-item interaction matrix**, where rows represent users, columns represent items, and cells contain ratings (explicit) or interactions (implicit like clicks, views).\n",
        "\n",
        "#### Two Main Types:\n",
        "\n",
        "---\n",
        "\n",
        "#### 1. **User-Based Collaborative Filtering**\n",
        "\n",
        "* Compares users to find similar ones.\n",
        "* Recommends items liked by similar users.\n",
        "\n",
        "#### 2. **Item-Based Collaborative Filtering**\n",
        "\n",
        "* Compares items to find similar ones.\n",
        "* Recommends items similar to what the user has already liked.\n",
        "\n",
        "---\n",
        "\n",
        "### Example Matrix:\n",
        "\n",
        "|        | Anime A | Anime B | Anime C | Anime D |\n",
        "| ------ | ------- | ------- | ------- | ------- |\n",
        "| User 1 | 5       | 4       | ?       | 3       |\n",
        "| User 2 | 5       | 4       | 2       | 3       |\n",
        "| User 3 | 1       | 2       | 5       | ?       |\n",
        "\n",
        "* Collaborative filtering will predict `User 1's` rating for **Anime C** based on similar users (like User 2) or similar items.\n",
        "\n",
        "---\n",
        "\n",
        "###  Key Techniques:\n",
        "\n",
        "* **Similarity Calculation**: Cosine similarity, Pearson correlation\n",
        "* **Matrix Factorization**: Advanced methods like SVD, ALS\n",
        "* **Deep Learning**: Neural Collaborative Filtering (NCF)\n",
        "\n",
        "---\n",
        "\n",
        "###  Pros:\n",
        "\n",
        "* No need for item metadata or content\n",
        "* Can discover complex patterns and relationships\n",
        "\n",
        "### Cons:\n",
        "\n",
        "* **Cold Start**: Struggles with new users/items (no data)\n",
        "* **Sparsity**: Most users rate only a few items\n",
        "* **Scalability**: Can be slow for very large datasets\n"
      ],
      "metadata": {
        "id": "hY1acy8Qj0Nt"
      }
    },
    {
      "cell_type": "code",
      "source": [],
      "metadata": {
        "id": "-LIsg5Sujytx"
      },
      "execution_count": null,
      "outputs": []
    }
  ],
  "metadata": {
    "kernelspec": {
      "display_name": "Python 3",
      "language": "python",
      "name": "python3"
    },
    "language_info": {
      "name": "python",
      "version": "3.9"
    },
    "colab": {
      "provenance": [],
      "include_colab_link": true
    }
  },
  "nbformat": 4,
  "nbformat_minor": 0
}