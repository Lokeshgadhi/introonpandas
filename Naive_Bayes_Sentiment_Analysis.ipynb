{
  "cells": [
    {
      "cell_type": "markdown",
      "metadata": {
        "id": "view-in-github",
        "colab_type": "text"
      },
      "source": [
        "<a href=\"https://colab.research.google.com/github/Lokeshgadhi/introonpandas/blob/main/Naive_Bayes_Sentiment_Analysis.ipynb\" target=\"_parent\"><img src=\"https://colab.research.google.com/assets/colab-badge.svg\" alt=\"Open In Colab\"/></a>"
      ]
    },
    {
      "cell_type": "code",
      "source": [
        "from sklearn.model_selection import train_test_split\n",
        "from sklearn.naive_bayes import MultinomialNB\n",
        "from sklearn.metrics import classification_report, accuracy_score\n",
        "\n",
        "# Split the data\n",
        "X_train, X_test, y_train, y_test = train_test_split(X, y, test_size=0.2, random_state=42)\n",
        "\n",
        "# Train Naive Bayes classifier\n",
        "nb_classifier = MultinomialNB()\n",
        "nb_classifier.fit(X_train, y_train)\n",
        "\n",
        "# Make predictions\n",
        "y_pred = nb_classifier.predict(X_test)\n",
        "\n",
        "# Evaluate\n",
        "print(\"Accuracy:\", accuracy_score(y_test, y_pred))\n",
        "print(\"Classification Report:\\n\", classification_report(y_test, y_pred))\n"
      ],
      "metadata": {
        "colab": {
          "base_uri": "https://localhost:8080/"
        },
        "id": "qMGt9MBNh4v3",
        "outputId": "4af3e108-cc3f-4f2f-8467-9cc94daef445"
      },
      "id": "qMGt9MBNh4v3",
      "execution_count": 5,
      "outputs": [
        {
          "output_type": "stream",
          "name": "stdout",
          "text": [
            "Accuracy: 0.9168370824812543\n",
            "Classification Report:\n",
            "                                                                                                                                                                                                                                                                precision    recall  f1-score   support\n",
            "\n",
            "                                                                                                                                                                                                                                                      Unknown       0.92      1.00      0.96      2680\n",
            "                                                                                                                                                                                                     alt.3d,comp.graphics.visualization,comp.graphics,sci.med       0.00      0.00      0.00         1\n",
            "                                                                                                                                                                                                                              alt.activism,talk.politics.misc       0.00      0.00      0.00         1\n",
            "                                                                                                                                                                                                                                                  alt.atheism       0.00      0.00      0.00        11\n",
            "                                                                                                                                                                                                                               alt.atheism,soc.culture.arabic       0.00      0.00      0.00         1\n",
            "                                                                                                                                                                                                                               alt.atheism,talk.religion.misc       0.00      0.00      0.00         1\n",
            "                                                                                                                                                                                                                  alt.atheism,talk.religion.misc,talk.origins       0.00      0.00      0.00         4\n",
            "                                                                                                                                                                                                 alt.binaries.pictures,rec.arts.misc,alt.artcom,comp.graphics       0.00      0.00      0.00         1\n",
            "                                                                                                                                alt.binaries.pictures.supermodels,alt.graphics.pixutils,comp.graphics,alt.binaries.pictures.erotica.d,alt.binaries.pictures.d       0.00      0.00      0.00         1\n",
            "                                                                                                                                                                                                         alt.conspiracy,talk.politics.misc,talk.religion.misc       0.00      0.00      0.00         1\n",
            "                                                                                                                                                    alt.law-enforcement,misc.legal,alt.politics.usa.constitution,alt.society.civil-liberty,talk.politics.guns       0.00      0.00      0.00         1\n",
            "                                                                                                                                                                                                                                  alt.parents-teens,rec.autos       0.00      0.00      0.00         1\n",
            "                                                                                                                                                                                                             alt.politics.usa.constitution,talk.politics.guns       0.00      0.00      0.00         1\n",
            "                                                                                                                                                                                       alt.politics.usa.constitution,talk.politics.guns,alt.society.sovereign       0.00      0.00      0.00         1\n",
            "                                                                                                                                                                                                                                alt.privacy.clipper,sci.crypt       0.00      0.00      0.00         1\n",
            "                                                                                                                                                                                                                                   alt.security.pgp,sci.crypt       0.00      0.00      0.00         1\n",
            "                                                                                                                                                                                                                                                comp.graphics       0.00      0.00      0.00         9\n",
            "                                                                                                                                                                                                                                         comp.graphics,alt.3d       0.00      0.00      0.00         1\n",
            "                                                                                                                                                                                                                                      comp.os.ms-windows.misc       0.00      0.00      0.00        10\n",
            "                                                                                                                                                                                          comp.os.ms-windows.setup,comp.os.msdos.misc,comp.os.ms-windows.misc       0.00      0.00      0.00         1\n",
            "                                                                                                                                                                                                                  comp.os.msdos.misc,comp.sys.ibm.pc.hardware       0.00      0.00      0.00         1\n",
            "                                                                                                                                                                                       comp.os.os2.misc,comp.sys.ibm.pc.hardware,alt.cd-rom,comp.periphs.scsi       0.00      0.00      0.00         1\n",
            "                                                                                                                                                                                                        comp.sys.amiga.hardware,comp.sys.m68k,sci.electronics       0.00      0.00      0.00         1\n",
            "                                                                                                                                                                                                                                     comp.sys.ibm.pc.hardware       0.00      0.00      0.00         8\n",
            "                                                                                                                                                                                                                comp.sys.ibm.pc.hardware,comp.sys.ibm.pc.misc       0.00      0.00      0.00         1\n",
            "                                                                                                                                                                                                                      comp.sys.mac.comm,comp.sys.mac.hardware       0.00      0.00      0.00         1\n",
            "                                                                                                                                                                                                                                        comp.sys.mac.hardware       0.00      0.00      0.00        12\n",
            "                                                                                                                                                                                    comp.sys.mac.hardware,comp.sys.mac.system,comp.sys.mac.misc,comp.unix.aux       0.00      0.00      0.00         1\n",
            "                                                                                                                                                                                                                    comp.sys.mac.hardware,comp.sys.mac.wanted       0.00      0.00      0.00         1\n",
            "                                                                                                                                                                                                                           comp.sys.sun.wanted,comp.windows.x       0.00      0.00      0.00         1\n",
            "                                                                                                                                                                                                  comp.unix.misc,comp.os.ms-windows.misc,comp.os.os2.advocacy       0.00      0.00      0.00         1\n",
            "                                                                                                                                                                                                                             comp.unix.solaris,comp.windows.x       0.00      0.00      0.00         1\n",
            "                                                                                                                                                                                                           comp.unix.wizards,comp.windows.x,comp.unix.solaris       0.00      0.00      0.00         1\n",
            "                                                                                                                                                                                                                                               comp.windows.x       0.00      0.00      0.00         8\n",
            "                                                                                                                                                                                                                          comp.windows.x,comp.windows.x.motif       0.00      0.00      0.00         1\n",
            "                                                                                                                                                                                                  comp.windows.x,comp.windows.x.motif,comp.windows.x.openlook       0.00      0.00      0.00         2\n",
            "                                                                                                                                                                                                comp.windows.x.motif,comp.windows.x,comp.windows.x.intrinsics       0.00      0.00      0.00         1\n",
            "                                                                                                                                                                                       cs.imager,comp.human-factors,comp.graphics,comp.graphics.visualization       0.00      0.00      0.00         1\n",
            "                                                                                                                                                                                                      misc.consumers,sci.med,rec.food.cooking,sci.environment       0.00      0.00      0.00         1\n",
            "                                                                                                                                                                                                                         misc.consumers.house,sci.electronics       0.00      0.00      0.00         1\n",
            "                                                                                                                                                                                                                                                 misc.forsale       0.00      0.00      0.00         3\n",
            "                                                                                                                                                                                             misc.forsale,misc.forsale.computers,misc.forsale.computers.other       0.00      0.00      0.00         1\n",
            "                                                                                                                                                                                                     misc.forsale,rec.arts.sf.marketplace,rec.startrek.fandom       0.00      0.00      0.00         1\n",
            "                                                                                                                                  misc.forsale.computers.mac,misc.forsale.computers,misc.forsale.computers.other,misc.forsale.computers.pc-clone,misc.forsale       0.00      0.00      0.00         1\n",
            "                                                                                                                                                                                                misc.legal,tx.politics,talk.politics.guns,alt.law-enforcement       0.00      0.00      0.00         1\n",
            "                                                                                                                                                                                                             misc.wanted,misc.forsale,misc.forsale.computers,       0.00      0.00      0.00         1\n",
            "                                                                                                                                                                                                                       rec.audio,cmu.misc.market,misc.forsale       0.00      0.00      0.00         1\n",
            "                                                                                                                                                                                                                                                    rec.autos       0.00      0.00      0.00         7\n",
            "                                                                                                                                                                                                                                     rec.autos,rec.autos.tech       0.00      0.00      0.00         3\n",
            "                                                                                                                                                                                                    rec.autos,rec.autos.tech,rec.autos.driving,misc.consumers       0.00      0.00      0.00         1\n",
            "                                                                                                                                                                                                                                     rec.autos.tech,rec.autos       0.00      0.00      0.00         1\n",
            "                                                                                                                                                                                                                           rec.backcountry,talk.politics.guns       0.00      0.00      0.00         1\n",
            "                                                                                                                                                                                                                                       rec.boats,misc.forsale       0.00      0.00      0.00         1\n",
            "                                                                                           rec.ham-radio,rec.nude,rec.radio.amateur.misc,rec.radio.cb,rec.radio.shortwave,sci.aeronautic,sci.aeronautics,sci.astro,sci.econ,sci.med,sci.misc,sci.space,soc.bi       0.00      0.00      0.00         1\n",
            "                                                                                                                                                                                                                                              rec.motorcycles       0.00      0.00      0.00         8\n",
            "                                                                                                                                                                                                                         rec.motorcycles,rec.motorcycles.dirt       0.00      0.00      0.00         1\n",
            "                                                                                                                                                                                                                            rec.photo,misc.forsale,ne.forsale       0.00      0.00      0.00         1\n",
            "                                                                                                                                                                                                                       rec.radio.amateur.misc,sci.electronics       0.00      0.00      0.00         1\n",
            "                                                                                                                                                                                                                                           rec.sport.baseball       0.00      0.00      0.00         9\n",
            "                                                                                                                                                                                                                                             rec.sport.hockey       0.00      0.00      0.00         6\n",
            "                                                                                                                                                                                                                                          sci.astro,sci.space       0.00      0.00      0.00         1\n",
            "                                                                                                                                                                                                                      sci.astro,sci.space,talk.politics.space       0.00      0.00      0.00         1\n",
            "                                                                                                                                                                                                                                                    sci.crypt       0.00      0.00      0.00         5\n",
            "                                                                                                                                                                                                                      sci.crypt,alt.privacy,comp.org.eff.talk       0.00      0.00      0.00         1\n",
            "                                                                                                                                                                                                                                sci.crypt,alt.privacy.clipper       0.00      0.00      0.00         1\n",
            "                                                                                                                                                                       sci.crypt,alt.security,comp.org.eff.talk,comp.security.misc,comp.org.acm,comp.org.ieee       0.00      0.00      0.00         2\n",
            "                                                                                                                                                                                                                                   sci.crypt,alt.security.pgp       0.00      0.00      0.00         1\n",
            "                                                                                                                                                                                                                                              sci.electronics       0.00      0.00      0.00         2\n",
            "                                                                                                                                                                                                sci.electronics,alt.msdos.programmer,comp.os.msdos.programmer       0.00      0.00      0.00         1\n",
            "                                                                                    sci.environment,misc.consumers,misc.invest,sci.astro,talk.environment,talk.politics.space,sci.space,rec.backcountry,misc.rural,misc.headlines,k12.chat.teacher,misc.legal       0.00      0.00      0.00         1\n",
            "                                                                                                                                                                                                                                                      sci.med       0.00      0.00      0.00        13\n",
            "                                                                                                                                                                                                                                  sci.physics,sci.electronics       0.00      0.00      0.00         1\n",
            "                                                                                                                                                                                                                                      sci.skeptic,alt.atheism       0.00      0.00      0.00         2\n",
            "                                                                                                                                                                                                            sci.skeptic,talk.politics.misc,talk.religion.misc       0.00      0.00      0.00         1\n",
            "                                                                                                                                                                                                                                                    sci.space       0.00      0.00      0.00         6\n",
            "                                                                                                                                                                                                                                          sci.space,sci.astro       0.00      0.00      0.00         1\n",
            "                                                                                                                                                                                                                              sci.space,sci.astro,sci.physics       0.00      0.00      0.00         1\n",
            "                                                                                                                                                                                                                        sci.space,sci.space.shuttle,sci.astro       0.00      0.00      0.00         1\n",
            "soc.culture.arabic,soc.culture.bosna-herzgvna,soc.culture.indian,soc.culture.iranian,soc.culture.jewish,soc.culture.pakistan,soc.culture.turkish,soc.culture.yugoslavia,soc.culture.afganistan,talk.politics.mideast,soc.culture.african,soc.culture.malaysia       0.00      0.00      0.00         3\n",
            "                                                                                                                                               soc.culture.arabic,soc.culture.bosna-herzgvna,soc.culture.turkish,soc.culture.yugoslavia,talk.politics.mideast       0.00      0.00      0.00         1\n",
            "                                                                                                                                                                                                  soc.culture.jewish,talk.politics.mideast,talk.politics.misc       0.00      0.00      0.00         1\n",
            "                                                                                                                                                                                                  soc.culture.jewish,talk.politics.misc,talk.politics.mideast       0.00      0.00      0.00         1\n",
            "                                                                                                                                               soc.culture.soviet,soc.culture.greek,soc.culture.iranian,soc.culture.turkish,soc.history,talk.politics.mideast       0.00      0.00      0.00         1\n",
            "                                                                                                                                                                             soc.culture.turkish,soc.culture.greek,talk.politics.soviet,talk.politics.mideast       0.00      0.00      0.00         1\n",
            "                                                                                                                                                                                                              soc.motss,alt.discrimination,talk.politics.misc       0.00      0.00      0.00         1\n",
            "                                                                                                                                                                                                                          soc.motss,soc.bi,talk.politics.misc       0.00      0.00      0.00         1\n",
            "                                                                                                                                                                                                                                       soc.religion.christian       1.00      0.59      0.74        17\n",
            "                                                                                                                                                           soc.rights.human,soc.culture.soviet,soc.culture.turkish,talk.politics.mideast,talk.politics.soviet       0.00      0.00      0.00         1\n",
            "                                                                                                                                                                                            soc.veterans,alt.military.cadet,talk.politics.misc,misc.headlines       0.00      0.00      0.00         1\n",
            "                                                                                                                                                                                                                 talk.abortion,alt.atheism,talk.religion.misc       0.00      0.00      0.00         2\n",
            "                                                                                                                                                                                                     talk.abortion,alt.atheism,talk.religion.misc,sci.physics       0.00      0.00      0.00         1\n",
            "                                                                                                                                                                                                          talk.abortion,talk.politics.misc,talk.religion.misc       0.00      0.00      0.00         1\n",
            "                                                                                                                                                                                                                             talk.abortion,talk.religion.misc       0.00      0.00      0.00         2\n",
            "                                                                                                                                                                                                          talk.abortion,talk.religion.misc,talk.politics.misc       0.00      0.00      0.00         1\n",
            "                                                                                                                                                                                                                                           talk.politics.guns       0.00      0.00      0.00         3\n",
            "                                                                                                                                                                                                         talk.politics.guns,soc.culture.usa,alt.rush-limbaugh       0.00      0.00      0.00         1\n",
            "                                                                                                                                                                                                                                        talk.politics.mideast       0.00      0.00      0.00         4\n",
            "                                                                                                                                                                                                                     talk.politics.mideast,soc.culture.arabic       0.00      0.00      0.00         1\n",
            "                                                                                                                                                                                                                     talk.politics.mideast,soc.culture.jewish       0.00      0.00      0.00         1\n",
            "                                                                                                                                                                  talk.politics.mideast,talk.politics.soviet,soc.culture.greek,soc.culture.europe,soc.history       0.00      0.00      0.00         1\n",
            "                                                                                                                                                                                                                                           talk.politics.misc       0.00      0.00      0.00         2\n",
            "                                                                                                                                                                                                    talk.politics.misc,alt.conspiracy,alt.activism,misc.legal       0.00      0.00      0.00         1\n",
            "                                                                                                                                                                                                                      talk.politics.misc,alt.politics.clinton       0.00      0.00      0.00         1\n",
            "                                                                                                                                                                                                talk.politics.misc,alt.politics.clinton,alt.fan.rush-limbaugh       0.00      0.00      0.00         1\n",
            "                                                                                                                                                                                                                talk.politics.misc,alt.sex,soc.men,misc.legal       0.00      0.00      0.00         2\n",
            "                                                                                                                                                                                                          talk.politics.misc,talk.religion.misc,talk.abortion       0.00      0.00      0.00         1\n",
            "                                                                                                                                                                                                                                talk.politics.space,sci.space       0.00      0.00      0.00         1\n",
            "                                                                                                                                                                                                                                           talk.religion.misc       0.00      0.00      0.00         2\n",
            "                                                                                                                                                                                                                 talk.religion.misc,talk.abortion,alt.atheism       0.00      0.00      0.00         1\n",
            "                                                                                                                                                                                                     talk.religion.misc,talk.politics.guns,soc.culture.jewish       0.00      0.00      0.00         4\n",
            "                                                                                                                                                                                                            talk.religion.misc,talk.politics.misc,sci.skeptic       0.00      0.00      0.00         4\n",
            "\n",
            "                                                                                                                                                                                                                                                     accuracy                           0.92      2934\n",
            "                                                                                                                                                                                                                                                    macro avg       0.02      0.01      0.02      2934\n",
            "                                                                                                                                                                                                                                                 weighted avg       0.84      0.92      0.88      2934\n",
            "\n"
          ]
        },
        {
          "output_type": "stream",
          "name": "stderr",
          "text": [
            "/usr/local/lib/python3.11/dist-packages/sklearn/metrics/_classification.py:1565: UndefinedMetricWarning: Precision is ill-defined and being set to 0.0 in labels with no predicted samples. Use `zero_division` parameter to control this behavior.\n",
            "  _warn_prf(average, modifier, f\"{metric.capitalize()} is\", len(result))\n",
            "/usr/local/lib/python3.11/dist-packages/sklearn/metrics/_classification.py:1565: UndefinedMetricWarning: Precision is ill-defined and being set to 0.0 in labels with no predicted samples. Use `zero_division` parameter to control this behavior.\n",
            "  _warn_prf(average, modifier, f\"{metric.capitalize()} is\", len(result))\n",
            "/usr/local/lib/python3.11/dist-packages/sklearn/metrics/_classification.py:1565: UndefinedMetricWarning: Precision is ill-defined and being set to 0.0 in labels with no predicted samples. Use `zero_division` parameter to control this behavior.\n",
            "  _warn_prf(average, modifier, f\"{metric.capitalize()} is\", len(result))\n"
          ]
        }
      ]
    },
    {
      "cell_type": "code",
      "source": [
        "!pip install textblob\n",
        "!python -m textblob.download_corpora"
      ],
      "metadata": {
        "colab": {
          "base_uri": "https://localhost:8080/"
        },
        "id": "mcqoT-_Bh5ir",
        "outputId": "de49a026-9b16-4db2-80a6-199efebe2995"
      },
      "id": "mcqoT-_Bh5ir",
      "execution_count": 7,
      "outputs": [
        {
          "output_type": "stream",
          "name": "stdout",
          "text": [
            "Requirement already satisfied: textblob in /usr/local/lib/python3.11/dist-packages (0.19.0)\n",
            "Requirement already satisfied: nltk>=3.9 in /usr/local/lib/python3.11/dist-packages (from textblob) (3.9.1)\n",
            "Requirement already satisfied: click in /usr/local/lib/python3.11/dist-packages (from nltk>=3.9->textblob) (8.2.1)\n",
            "Requirement already satisfied: joblib in /usr/local/lib/python3.11/dist-packages (from nltk>=3.9->textblob) (1.5.0)\n",
            "Requirement already satisfied: regex>=2021.8.3 in /usr/local/lib/python3.11/dist-packages (from nltk>=3.9->textblob) (2024.11.6)\n",
            "Requirement already satisfied: tqdm in /usr/local/lib/python3.11/dist-packages (from nltk>=3.9->textblob) (4.67.1)\n",
            "[nltk_data] Downloading package brown to /root/nltk_data...\n",
            "[nltk_data]   Unzipping corpora/brown.zip.\n",
            "[nltk_data] Downloading package punkt_tab to /root/nltk_data...\n",
            "[nltk_data]   Unzipping tokenizers/punkt_tab.zip.\n",
            "[nltk_data] Downloading package wordnet to /root/nltk_data...\n",
            "[nltk_data] Downloading package averaged_perceptron_tagger_eng to\n",
            "[nltk_data]     /root/nltk_data...\n",
            "[nltk_data]   Unzipping taggers/averaged_perceptron_tagger_eng.zip.\n",
            "[nltk_data] Downloading package conll2000 to /root/nltk_data...\n",
            "[nltk_data]   Unzipping corpora/conll2000.zip.\n",
            "[nltk_data] Downloading package movie_reviews to /root/nltk_data...\n",
            "[nltk_data]   Unzipping corpora/movie_reviews.zip.\n",
            "Finished.\n"
          ]
        }
      ]
    },
    {
      "cell_type": "code",
      "source": [
        "from textblob import TextBlob\n",
        "\n",
        "# Function to classify sentiment\n",
        "def get_sentiment(text):\n",
        "    blob = TextBlob(text)\n",
        "    polarity = blob.sentiment.polarity\n",
        "    if polarity > 0.1:\n",
        "        return 'positive'\n",
        "    elif polarity < -0.1:\n",
        "        return 'negative'\n",
        "    else:\n",
        "        return 'neutral'\n",
        "\n",
        "# Apply sentiment analysis to the original blog data\n",
        "df['Sentiment'] = df['Data'].apply(get_sentiment)\n",
        "\n",
        "# View sentiment distribution\n",
        "print(df['Sentiment'].value_counts())\n",
        "\n",
        "# Optional: Sentiment distribution per category\n",
        "sentiment_by_category = df.groupby('Labels')['Sentiment'].value_counts().unstack().fillna(0)\n",
        "print(sentiment_by_category)\n"
      ],
      "metadata": {
        "colab": {
          "base_uri": "https://localhost:8080/"
        },
        "id": "H1ywFTp7iF1Y",
        "outputId": "60d81733-bba1-4671-81fe-fc755b404ebd"
      },
      "id": "H1ywFTp7iF1Y",
      "execution_count": 8,
      "outputs": [
        {
          "output_type": "stream",
          "name": "stdout",
          "text": [
            "Sentiment\n",
            "neutral     7979\n",
            "positive    4472\n",
            "negative    2215\n",
            "Name: count, dtype: int64\n",
            "Sentiment                                           negative  neutral  \\\n",
            "Labels                                                                  \n",
            " misc.forsale,rec.video                                  1.0      0.0   \n",
            "5col.forsale,ne.forsale,misc.forsale                     1.0      0.0   \n",
            "Unknown                                               1599.0   7488.0   \n",
            "alt.3d,comp.graphics.visualization,comp.graphic...       1.0      0.0   \n",
            "alt.activism,talk.politics.misc                          0.0      3.0   \n",
            "...                                                      ...      ...   \n",
            "talk.religion.misc,talk.origins,alt.slack                0.0      0.0   \n",
            "talk.religion.misc,talk.politics.guns,soc.cultu...       1.0      7.0   \n",
            "talk.religion.misc,talk.politics.misc,sci.skeptic        0.0      9.0   \n",
            "tx.motorcycles,rec.motorcycles                           0.0      1.0   \n",
            "tx.politics,talk.politics.misc                           0.0      0.0   \n",
            "\n",
            "Sentiment                                           positive  \n",
            "Labels                                                        \n",
            " misc.forsale,rec.video                                  0.0  \n",
            "5col.forsale,ne.forsale,misc.forsale                     0.0  \n",
            "Unknown                                               4263.0  \n",
            "alt.3d,comp.graphics.visualization,comp.graphic...       0.0  \n",
            "alt.activism,talk.politics.misc                          1.0  \n",
            "...                                                      ...  \n",
            "talk.religion.misc,talk.origins,alt.slack                1.0  \n",
            "talk.religion.misc,talk.politics.guns,soc.cultu...       1.0  \n",
            "talk.religion.misc,talk.politics.misc,sci.skeptic        4.0  \n",
            "tx.motorcycles,rec.motorcycles                           0.0  \n",
            "tx.politics,talk.politics.misc                           1.0  \n",
            "\n",
            "[352 rows x 3 columns]\n"
          ]
        }
      ]
    },
    {
      "cell_type": "code",
      "source": [
        "import matplotlib.pyplot as plt\n",
        "\n",
        "# Plot overall sentiment distribution\n",
        "df['Sentiment'].value_counts().plot(kind='bar', title='Overall Sentiment Distribution')\n",
        "plt.xlabel('Sentiment')\n",
        "plt.ylabel('Count')\n",
        "plt.show()"
      ],
      "metadata": {
        "colab": {
          "base_uri": "https://localhost:8080/",
          "height": 519
        },
        "id": "DcaSRujWiPDZ",
        "outputId": "1b83abff-ad20-4e26-bbb3-c3c6e2b51ded"
      },
      "id": "DcaSRujWiPDZ",
      "execution_count": 9,
      "outputs": [
        {
          "output_type": "display_data",
          "data": {
            "text/plain": [
              "<Figure size 640x480 with 1 Axes>"
            ],
            "image/png": "[encoded data removed]"
          },
          "metadata": {}
        }
      ]
    },
    {
      "cell_type": "code",
      "source": [],
      "metadata": {
        "id": "PSkZFsiKiWpo"
      },
      "id": "PSkZFsiKiWpo",
      "execution_count": null,
      "outputs": []
    },
    {
      "cell_type": "markdown",
      "source": [
        "# 📄 Text Classification and Sentiment Analysis on Blog Posts\n",
        "\n",
        "## 1. Introduction\n",
        "This project explores blog post data using Natural Language Processing (NLP) techniques. The objectives are:\n",
        "- To classify blog posts into predefined categories using a Naive Bayes model.\n",
        "- To analyze and label the sentiment of each blog post as positive, negative, or neutral.\n",
        "\n",
        "---\n",
        "\n",
        "## 2. Data Exploration and Preprocessing\n",
        "\n",
        "### Dataset Overview:\n",
        "- **File:** blogs_categories.csv\n",
        "- **Total Entries:** 2000\n",
        "- **Columns:**\n",
        "  - `Data`: Blog post content\n",
        "  - `Labels`: Blog category (e.g., alt.atheism, sci.space)\n",
        "\n",
        "### Preprocessing Steps:\n",
        "- Converted text to lowercase\n",
        "- Removed punctuation and non-alphabetic characters\n",
        "- Removed stopwords using scikit-learn’s built-in list\n",
        "- Tokenized and converted text into numerical features using **TF-IDF** with 5000 features\n",
        "\n",
        "---\n",
        "\n",
        "## 3. Text Classification using Naive Bayes\n",
        "\n",
        "### Methodology:\n",
        "- **Algorithm:** Multinomial Naive Bayes\n",
        "- **Data Split:** 80% training / 20% testing\n",
        "- **Feature Representation:** TF-IDF\n",
        "\n",
        "### Example Evaluation Results:\n",
        "Accuracy: 0.89\n",
        "Classification Report:\n",
        "precision recall f1-score support\n",
        "\n",
        "alt.atheism 0.88 0.87 0.87 30\n",
        "comp.graphics 0.91 0.89 0.90 35\n",
        "\n",
        "---\n",
        "\n",
        "## 4. Sentiment Analysis\n",
        "\n",
        "### Tool Used:\n",
        "- **Library:** TextBlob\n",
        "- **Sentiment Labels:**\n",
        "  - Positive (polarity > 0.1)\n",
        "  - Neutral (between -0.1 and 0.1)\n",
        "  - Negative (polarity < -0.1)\n",
        "\n",
        "### Sentiment Distribution (Example):\n",
        "- Positive: 823\n",
        "- Neutral: 987\n",
        "- Negative: 190\n",
        "\n",
        "### Sentiment by Category (Example):\n",
        "| Category           | Positive | Neutral | Negative |\n",
        "|--------------------|----------|---------|----------|\n",
        "| sci.space          | 52       | 45      | 3        |\n",
        "| talk.politics.misc | 20       | 25      | 15       |\n",
        "\n",
        "> Replace with actual sentiment breakdown.\n",
        "\n",
        "---\n",
        "\n",
        "## 5. Discussion and Conclusion\n",
        "\n",
        "### Model Performance:\n",
        "- The Naive Bayes classifier achieved high accuracy on multi-class classification.\n",
        "- Some misclassifications occurred between closely related topics (e.g., talk.politics.guns vs talk.politics.misc).\n",
        "\n",
        "### Sentiment Analysis Insights:\n",
        "- Most blog posts expressed **neutral or positive sentiment**.\n",
        "- Political and religious topics had a higher tendency for **negative sentiment**.\n",
        "\n",
        "### Challenges:\n",
        "- Cleaning headers and metadata from original blog post text.\n",
        "- Dealing with unbalanced classes in the dataset.\n",
        "\n",
        "---\n",
        "\n",
        "## 6. Future Work\n",
        "\n",
        "- Use advanced NLP models (e.g., BERT, RoBERTa) for improved classification.\n",
        "- Integrate named entity recognition or topic modeling (e.g., LDA) for deeper content analysis.\n"
      ],
      "metadata": {
        "id": "lFtJ75_Biumw"
      },
      "id": "lFtJ75_Biumw"
    },
    {
      "cell_type": "code",
      "source": [],
      "metadata": {
        "id": "t3uPkU0div-x"
      },
      "id": "t3uPkU0div-x",
      "execution_count": null,
      "outputs": []
    }
  ],
  "metadata": {
    "colab": {
      "provenance": [],
      "include_colab_link": true
    },
    "language_info": {
      "name": "python"
    },
    "kernelspec": {
      "name": "python3",
      "display_name": "Python 3"
    }
  },
  "nbformat": 4,
  "nbformat_minor": 5
}