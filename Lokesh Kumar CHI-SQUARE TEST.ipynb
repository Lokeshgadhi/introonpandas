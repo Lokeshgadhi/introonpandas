{
  "nbformat": 4,
  "nbformat_minor": 0,
  "metadata": {
    "colab": {
      "provenance": [],
      "authorship_tag": "ABX9TyN3N2nO3X5idqZvVJteitgK",
      "include_colab_link": true
    },
    "kernelspec": {
      "name": "python3",
      "display_name": "Python 3"
    },
    "language_info": {
      "name": "python"
    }
  },
  "cells": [
    {
      "cell_type": "markdown",
      "metadata": {
        "id": "view-in-github",
        "colab_type": "text"
      },
      "source": [
        "<a href=\"https://colab.research.google.com/github/Lokeshgadhi/introonpandas/blob/main/Lokesh%20Kumar%20CHI-SQUARE%20TEST.ipynb\" target=\"_parent\"><img src=\"https://colab.research.google.com/assets/colab-badge.svg\" alt=\"Open In Colab\"/></a>"
      ]
    },
    {
      "cell_type": "code",
      "execution_count": 1,
      "metadata": {
        "colab": {
          "base_uri": "https://localhost:8080/"
        },
        "id": "frzEATQNI6uH",
        "outputId": "c93b06a8-647c-4568-a61e-eef56f78ba34"
      },
      "outputs": [
        {
          "output_type": "stream",
          "name": "stdout",
          "text": [
            "Chi-Square Statistic: 5.638227513227513\n",
            "Critical Value: 9.487729036781154\n",
            "Degrees of Freedom: 4\n",
            "Decision: Fail to reject the null hypothesis.\n",
            "Conclusion: There is no significant association between device type and customer satisfaction.\n"
          ]
        }
      ],
      "source": [
        "# prompt: CHI-SQUARE TEST\n",
        "# Association between Device Type and Customer Satisfaction\n",
        "# Background:\n",
        "# Mizzare Corporation has collected data on customer satisfaction levels for two types of smart home devices: Smart Thermostats and Smart Lights. They want to determine if there's a significant association between the type of device purchased and the customer's satisfaction level.\n",
        "# Data Provided:\n",
        "# The data is summarized in a contingency table showing the counts of customers in each satisfaction level for both types of devices:\n",
        "# Satisfaction\tSmart Thermostat\tSmart Light\tTotal\n",
        "# Very Satisfied\t50\t70\t120\n",
        "# Satisfied\t80\t100\t180\n",
        "# Neutral\t60\t90\t150\n",
        "# Unsatisfied\t30\t50\t80\n",
        "# Very Unsatisfied\t20\t50\t70\n",
        "# Total\t240\t360\t600\n",
        "# Objective:\n",
        "# To use the Chi-Square test for independence to determine if there's a significant association between the type of smart home device purchased (Smart Thermostats vs. Smart Lights) and the customer satisfaction level.\n",
        "# Assignment Tasks:\n",
        "# 1. State the Hypotheses:\n",
        "# 2. Compute the Chi-Square Statistic:\n",
        "# 3. Determine the Critical Value:\n",
        "# Using the significance level (alpha) of 0.05 and the degrees of freedom (which is the number of categories minus 1)\n",
        "# 4. Make a Decision:\n",
        "# Compare the Chi-Square statistic with the critical value to decide whether to reject the null hypothesis.\n",
        "# Submission Guidelines:\n",
        "# •\tProvide a detailed report of your analysis, including each step outlined in the assignment tasks in a python file.\n",
        "# •\tInclude all calculations, the Chi-Square statistic, the critical value, and your conclusion.\n",
        "\n",
        "import numpy as np\n",
        "from scipy.stats import chi2\n",
        "\n",
        "# Observed frequencies\n",
        "observed = np.array([\n",
        "    [50, 70],\n",
        "    [80, 100],\n",
        "    [60, 90],\n",
        "    [30, 50],\n",
        "    [20, 50]\n",
        "])\n",
        "\n",
        "# 1. State the Hypotheses:\n",
        "# Null Hypothesis (H0): There is no association between device type and customer satisfaction.\n",
        "# Alternative Hypothesis (H1): There is a significant association between device type and customer satisfaction.\n",
        "\n",
        "# 2. Compute the Chi-Square Statistic:\n",
        "# Calculate row and column totals\n",
        "row_totals = observed.sum(axis=1)\n",
        "col_totals = observed.sum(axis=0)\n",
        "grand_total = observed.sum()\n",
        "\n",
        "# Calculate expected frequencies\n",
        "expected = np.zeros(observed.shape)\n",
        "for i in range(observed.shape[0]):\n",
        "    for j in range(observed.shape[1]):\n",
        "        expected[i, j] = (row_totals[i] * col_totals[j]) / grand_total\n",
        "\n",
        "# Calculate Chi-Square statistic\n",
        "chi2_statistic = np.sum(((observed - expected)**2) / expected)\n",
        "\n",
        "# 3. Determine the Critical Value:\n",
        "alpha = 0.05\n",
        "degrees_of_freedom = (observed.shape[0] - 1) * (observed.shape[1] - 1)\n",
        "critical_value = chi2.ppf(1 - alpha, degrees_of_freedom)\n",
        "\n",
        "# 4. Make a Decision:\n",
        "print(\"Chi-Square Statistic:\", chi2_statistic)\n",
        "print(\"Critical Value:\", critical_value)\n",
        "print(\"Degrees of Freedom:\", degrees_of_freedom)\n",
        "\n",
        "if chi2_statistic > critical_value:\n",
        "    print(\"Decision: Reject the null hypothesis.\")\n",
        "    print(\"Conclusion: There is a significant association between device type and customer satisfaction.\")\n",
        "else:\n",
        "    print(\"Decision: Fail to reject the null hypothesis.\")\n",
        "    print(\"Conclusion: There is no significant association between device type and customer satisfaction.\")\n"
      ]
    },
    {
      "cell_type": "code",
      "source": [],
      "metadata": {
        "id": "yrSBkJAnJKFw"
      },
      "execution_count": null,
      "outputs": []
    }
  ]
}